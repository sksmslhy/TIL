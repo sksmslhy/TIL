{
 "cells": [
  {
   "cell_type": "markdown",
   "metadata": {},
   "source": [
    "# Pytorch Practice\n",
    "\n",
    "\n",
    "> ### Multi Layer Perceptron using Pytorch on MNIST dataset"
   ]
  },
  {
   "cell_type": "markdown",
   "metadata": {},
   "source": [
    "## 0. MLP 모델의 설계 순서\n",
    "1. module import\n",
    "2. 모델 설계 시 활용하는 장비 확인\n",
    "3. data set download (split tran/test set)\n",
    "4. data 확인\n",
    "5. MLP 모델 설계\n",
    "6. Optimizer, Objective Func 설정\n",
    "7. train data에 대한 모델 성능 확인하는 함수 정의 (ex. accuracy, loss)\n",
    "8. test data에 대한 모델의 성능 확인하는 함수 정의 (ex. accuracy, loss)\n",
    "9. MLP 학습 실행하며 tran, test set의 loss와 test set accuracy 확인"
   ]
  },
  {
   "cell_type": "markdown",
   "metadata": {},
   "source": [
    "## 1. Module Import"
   ]
  },
  {
   "cell_type": "code",
   "execution_count": 1,
   "metadata": {},
   "outputs": [],
   "source": [
    "import numpy as np\n",
    "import matplotlib.pyplot as plt\n",
    "\n",
    "import torch\n",
    "import torch.nn as nn\n",
    "import torch.nn.functional as F\n",
    "from torchvision import transforms, datasets\n",
    "\n",
    "import warnings\n",
    "\n",
    "warnings.filterwarnings(action='ignore')"
   ]
  },
  {
   "cell_type": "markdown",
   "metadata": {},
   "source": [
    "## 2. 모델 설계 시 활용하는 장비 확인 (GPU?CPU?)"
   ]
  },
  {
   "cell_type": "code",
   "execution_count": 2,
   "metadata": {},
   "outputs": [
    {
     "name": "stdout",
     "output_type": "stream",
     "text": [
      "Using PyTorch version: 1.8.1  Device: cuda\n"
     ]
    }
   ],
   "source": [
    "if torch.cuda.is_available():\n",
    "    DEVICE = torch.device('cuda')\n",
    "else:\n",
    "    DEVICE = torch.device('cpu')\n",
    "\n",
    "print('Using PyTorch version:', torch.__version__, ' Device:', DEVICE)"
   ]
  },
  {
   "cell_type": "markdown",
   "metadata": {},
   "source": [
    "### 하이퍼파라미터 설정"
   ]
  },
  {
   "cell_type": "code",
   "execution_count": 3,
   "metadata": {},
   "outputs": [],
   "source": [
    "BATCH_SIZE = 32 # 한 번 학습할 때 32개의 데이터를 학습한다.\n",
    "EPOCHS = 10 # 존재하고 있는 미니배치를 전부 이용하는 횟수. 즉, 학습을 몇 번 반복할 것인지."
   ]
  },
  {
   "cell_type": "markdown",
   "metadata": {},
   "source": [
    "## 3. MNIST Dataset Download\n",
    "MNIST는 사람이 손으로 쓴 숫자로 이루어지는 대형 데이터베이스다.  \n",
    "각 이미지는 28*28 pexels로 구성되며 흰색과 검정색으로 이루어진 gray scale image [0 to 255]다."
   ]
  },
  {
   "cell_type": "code",
   "execution_count": 4,
   "metadata": {
    "scrolled": true
   },
   "outputs": [],
   "source": [
    "train_dataset = datasets.MNIST(root = \"../data/MNIST\",\n",
    "                               train = True,\n",
    "                               download = True,\n",
    "                               transform = transforms.ToTensor())\n",
    "\n",
    "test_dataset = datasets.MNIST(root = \"../data/MNIST\",\n",
    "                              train = False,\n",
    "                              transform = transforms.ToTensor())\n",
    "\n",
    "train_loader = torch.utils.data.DataLoader(dataset = train_dataset,\n",
    "                                           batch_size = BATCH_SIZE,\n",
    "                                           shuffle = True)\n",
    "\n",
    "test_loader = torch.utils.data.DataLoader(dataset = test_dataset,\n",
    "                                          batch_size = BATCH_SIZE,\n",
    "                                          shuffle = False)"
   ]
  },
  {
   "cell_type": "markdown",
   "metadata": {},
   "source": [
    "- mnist 데이터는 이미지 데이터이다. 데이터를 다운로드할 때 transform을 사용해 기본적인 전처리를 진행한다. ToTensor()는 데이터를 tensor형태로 변경시킨다. 또한 각각의 픽셀은  [0 to 255] 사이의 스칼라 값으로 구성되어 있는데 이를 [0 to 1] 사이의 값으로 정규화 한다.  \n",
    "- shuffle은 데이터의 순서를 섞고자 할 때 사용한다. 모델이 학습을 진행할 때 label 정보의 순서를 암기해 학습을 진행할 우려가 있으므로 데이터 순서를 섞어 학습한다."
   ]
  },
  {
   "cell_type": "markdown",
   "metadata": {},
   "source": [
    "## 4. 데이터 확인하기\n",
    "미니배치 단위로 할당한 데이터의 개수와 형태를 확인한다."
   ]
  },
  {
   "cell_type": "code",
   "execution_count": 5,
   "metadata": {},
   "outputs": [
    {
     "name": "stdout",
     "output_type": "stream",
     "text": [
      "X_train: torch.Size([32, 1, 28, 28]) type: torch.FloatTensor\n",
      "y_train: torch.Size([32]) type: torch.LongTensor\n"
     ]
    }
   ],
   "source": [
    "for (X_train, y_train) in train_loader:\n",
    "    print('X_train:', X_train.size(), 'type:', X_train.type())\n",
    "    print('y_train:', y_train.size(), 'type:', y_train.type())\n",
    "    break"
   ]
  },
  {
   "cell_type": "code",
   "execution_count": 6,
   "metadata": {},
   "outputs": [
    {
     "data": {
      "image/png": "[encoded data removed]",
      "text/plain": [
       "<Figure size 720x72 with 10 Axes>"
      ]
     },
     "metadata": {
      "needs_background": "light"
     },
     "output_type": "display_data"
    }
   ],
   "source": [
    "pltsize = 1\n",
    "plt.figure(figsize=(10 * pltsize, pltsize))\n",
    "for i in range(10):\n",
    "    plt.subplot(1, 10, i + 1)\n",
    "    plt.axis('off')\n",
    "    plt.imshow(X_train[i, :, :, :].numpy().reshape(28, 28), cmap = \"gray_r\")\n",
    "    plt.title('Class: ' + str(y_train[i].item()))"
   ]
  },
  {
   "cell_type": "markdown",
   "metadata": {},
   "source": [
    "## 5. MLP 모델 설계\n",
    "28 * 28 픽셀의 이미지 데이터가 Flatten되어 모델의 input으로 들어간다.\n",
    "* 첫 번째 레이어는 mnist 이미지 한 장을 입력으로 받고 512개의 node를 만든다.\n",
    "* 두 번째 레이어는 512개의 input을 받고 256개의 node를 만든다.\n",
    "* 세 번째 레이어는 256개의 input을 받고 10개의 node를 만든다. (최종적으로 분류해야 할 output의 개수가 0~9까지 총 10개이므로 최종 output node 수는 10.)"
   ]
  },
  {
   "cell_type": "code",
   "execution_count": 7,
   "metadata": {},
   "outputs": [],
   "source": [
    "class MLP(nn.Module):\n",
    "    \n",
    "    def __init__(self):\n",
    "        \n",
    "        super(MLP, self).__init__() \n",
    "        \n",
    "        self.fc1 = nn.Linear(28*28, 512)\n",
    "        self.fc2 = nn.Linear(512, 256)\n",
    "        self.fc3 = nn.Linear(256, 10)\n",
    "        \n",
    "    # 설계한 모델의 forward propagation. 모델에 데이터를 입력했을 때 output을 계산하기까지의 과정\n",
    "    def forward(self, x):\n",
    "        \n",
    "        x = x.view(-1, 28*28)\n",
    "        x = self.fc1(x)\n",
    "        x = F.sigmoid(x)\n",
    "        x = self.fc2(x)\n",
    "        x = F.sigmoid(x)\n",
    "        x = self.fc3(x)\n",
    "        x = F.log_softmax(x, dim = 1)\n",
    "        \n",
    "        return x"
   ]
  },
  {
   "cell_type": "markdown",
   "metadata": {},
   "source": [
    "view 메서드는 input tensor와 데이터는 같지만 shape가 다른 tensor를 반환한다. 이 메서드를 통해 flatten된 데이터는 첫 번째 레이어에 input으로 들어간다. 그 후 반환된 값은 sigmoid 함수를 통과해 두 번째 레이어의 input이 된다. 마찬가지로 그 후 반환된 값은 다시 sigmoid 함수를 통과해 세 번째 레이어의 input이 되고, 세 번째 레이어에서 반환된 값(prediction)은 log_softmax 함수를 통과해 최종 output을 계산하게 된다.(log_softmax를 사용하는 이유는 softmax보다 loss값에 대한 gradient 값을 더 원활하게 계산하기 때문.)"
   ]
  },
  {
   "cell_type": "markdown",
   "metadata": {},
   "source": [
    "## 6. Optimizer, Objective Function 설정"
   ]
  },
  {
   "cell_type": "code",
   "execution_count": 8,
   "metadata": {},
   "outputs": [
    {
     "name": "stdout",
     "output_type": "stream",
     "text": [
      "MLP(\n",
      "  (fc1): Linear(in_features=784, out_features=512, bias=True)\n",
      "  (fc2): Linear(in_features=512, out_features=256, bias=True)\n",
      "  (fc3): Linear(in_features=256, out_features=10, bias=True)\n",
      ")\n"
     ]
    }
   ],
   "source": [
    "model = MLP().to(DEVICE)\n",
    "optimizer = torch.optim.SGD(model.parameters(), lr = 0.01, momentum = 0.5)\n",
    "criterion = nn.CrossEntropyLoss()\n",
    "\n",
    "print(model)"
   ]
  },
  {
   "cell_type": "markdown",
   "metadata": {},
   "source": [
    "### TIP\n",
    "\n",
    "torchsummary 패키지를 이용하면 pytorch에서도 keras처럼 모델을 깔끔하게 출력해볼 수 있다!"
   ]
  },
  {
   "cell_type": "code",
   "execution_count": null,
   "metadata": {},
   "outputs": [],
   "source": [
    "# !pip install torchsummary"
   ]
  },
  {
   "cell_type": "code",
   "execution_count": 10,
   "metadata": {},
   "outputs": [
    {
     "name": "stdout",
     "output_type": "stream",
     "text": [
      "----------------------------------------------------------------\n",
      "        Layer (type)               Output Shape         Param #\n",
      "================================================================\n",
      "            Linear-1                  [-1, 512]         401,920\n",
      "            Linear-2                  [-1, 256]         131,328\n",
      "            Linear-3                   [-1, 10]           2,570\n",
      "================================================================\n",
      "Total params: 535,818\n",
      "Trainable params: 535,818\n",
      "Non-trainable params: 0\n",
      "----------------------------------------------------------------\n",
      "Input size (MB): 0.00\n",
      "Forward/backward pass size (MB): 0.01\n",
      "Params size (MB): 2.04\n",
      "Estimated Total Size (MB): 2.05\n",
      "----------------------------------------------------------------\n"
     ]
    }
   ],
   "source": [
    "from torchsummary import summary\n",
    "\n",
    "model = MLP().to(DEVICE)\n",
    "summary(model, input_size=(1,28,28)) # input_size = (channels, H, W)"
   ]
  },
  {
   "cell_type": "markdown",
   "metadata": {},
   "source": [
    "## 7. Train data에 대한 모델 성능 확인하는 함수 정의\n",
    "기존에 정의한 이미지 데이터와 레이블 데이터를 이용해 MLP 모델을 학습하는 함수를 정의한다.\n",
    "\n",
    "- train_loader에는 학습에 이용되는 이미지 데이터와 레이블 데이터가 mini-batch 단위로 묶여 저장되어 있다. 해당 train_loader 내의 미니배치 단위로 저장된 데이터를 순서대로 MLP 모델을 학습시킨다.  \n",
    "- 미니배치 내에 있는 데이터를 이용해 모델을 학습시키기 위해서는 모든 데이터를 DEVICE에 할당해야 한다.  \n",
    "- DEVICE에 데이터를 할당할 경우, 과거에 이용한 미니 배치 내에 있는 데이터를 바탕으로 계산된 loss의 gradient 값이 optimizer에 할당되어 있으므로 optimizer의 gradient를 초기화한다.  \n",
    "- DEVICE에 할당한 이미지를 모델의 input으로, output을 계산한다. 계산된 output과 DEVICE의 레이블 데이터를 CrossEntropy를 이용해 loss를 계산한다.  \n",
    "- loss 값을 계산한 결과를 바탕으로 backpropagation을 통해 계산된 gradient 값을 각 파라미터에 할당하고, 할당된 gradient 값을 이용해 파라미터 값을 업데이트 한다."
   ]
  },
  {
   "cell_type": "code",
   "execution_count": 9,
   "metadata": {},
   "outputs": [],
   "source": [
    "def train(model, train_loader, optimizer, log_interval):\n",
    "    model.train()\n",
    "    print(\"============================ Train ===========================\")\n",
    "    for batch_idx, (image, label) in enumerate(train_loader):\n",
    "        image = image.to(DEVICE)\n",
    "        label = label.to(DEVICE)\n",
    "        optimizer.zero_grad()\n",
    "        output = model(image)\n",
    "        loss = criterion(output, label)\n",
    "        loss.backward()\n",
    "        optimizer.step()\n",
    "\n",
    "        if batch_idx % log_interval == 0:\n",
    "            print(\"Training Epoch: {}  iteration : {:5d}  Train Loss: {:.6f}\".format(epoch, batch_idx * len(image), loss.item()))\n",
    "        #if batch_idx % log_interval == 0:\n",
    "        #    print(\"Train Epoch: {} [{}/{} ({:.0f}%)]\\tTrain Loss: {:.6f}\".format(\n",
    "        #        epoch, batch_idx * len(image), \n",
    "        #        len(train_loader.dataset), 100. * batch_idx / len(train_loader), \n",
    "        #        loss.item()))\n",
    "    print(\"==============================================================\")"
   ]
  },
  {
   "cell_type": "markdown",
   "metadata": {},
   "source": [
    "## 8. Test data에 대한 모델의 성능 확인하는 함수 정의\n",
    "학습의 진행 과정을 모니터링하기 위한 함수이다.\n",
    "\n",
    "- test data를 통해 모델을 평가할 때는 gradient를 통해 파라미터 값이 업데이트 되면 안된다."
   ]
  },
  {
   "cell_type": "code",
   "execution_count": 10,
   "metadata": {},
   "outputs": [],
   "source": [
    "def evaluate(model, test_loader):\n",
    "    model.eval()\n",
    "    test_loss = 0\n",
    "    correct = 0\n",
    "\n",
    "    with torch.no_grad():\n",
    "        for image, label in test_loader:\n",
    "            image = image.to(DEVICE)\n",
    "            label = label.to(DEVICE)\n",
    "            output = model(image)\n",
    "            test_loss += criterion(output, label).item()\n",
    "            prediction = output.max(1, keepdim = True)[1]\n",
    "            correct += prediction.eq(label.view_as(prediction)).sum().item()\n",
    "    \n",
    "    test_loss /= (len(test_loader.dataset) / BATCH_SIZE)\n",
    "    test_accuracy = correct / len(test_loader.dataset)\n",
    "    return test_loss, test_accuracy"
   ]
  },
  {
   "cell_type": "markdown",
   "metadata": {},
   "source": [
    "## 9. MLP 학습 실행"
   ]
  },
  {
   "cell_type": "code",
   "execution_count": 11,
   "metadata": {
    "scrolled": false
   },
   "outputs": [
    {
     "name": "stdout",
     "output_type": "stream",
     "text": [
      "============================ Train ===========================\n",
      "Training Epoch: 1  iteration :     0  Train Loss: 2.329282\n",
      "Training Epoch: 1  iteration :  6400  Train Loss: 2.310580\n",
      "Training Epoch: 1  iteration : 12800  Train Loss: 2.351052\n",
      "Training Epoch: 1  iteration : 19200  Train Loss: 2.299035\n",
      "Training Epoch: 1  iteration : 25600  Train Loss: 2.273660\n",
      "Training Epoch: 1  iteration : 32000  Train Loss: 2.318981\n",
      "Training Epoch: 1  iteration : 38400  Train Loss: 2.242330\n",
      "Training Epoch: 1  iteration : 44800  Train Loss: 2.256781\n",
      "Training Epoch: 1  iteration : 51200  Train Loss: 2.236683\n",
      "Training Epoch: 1  iteration : 57600  Train Loss: 2.270930\n",
      "==============================================================\n",
      "---------------------------- Test ----------------------------\n",
      "Test Epoch: 1 Test Loss: 2.2304  Test Accuracy: 0.1277\n",
      "--------------------------------------------------------------\n",
      "============================ Train ===========================\n",
      "Training Epoch: 2  iteration :     0  Train Loss: 2.283923\n",
      "Training Epoch: 2  iteration :  6400  Train Loss: 2.219948\n",
      "Training Epoch: 2  iteration : 12800  Train Loss: 2.124277\n",
      "Training Epoch: 2  iteration : 19200  Train Loss: 2.088445\n",
      "Training Epoch: 2  iteration : 25600  Train Loss: 1.813871\n",
      "Training Epoch: 2  iteration : 32000  Train Loss: 1.891865\n",
      "Training Epoch: 2  iteration : 38400  Train Loss: 1.655784\n",
      "Training Epoch: 2  iteration : 44800  Train Loss: 1.520083\n",
      "Training Epoch: 2  iteration : 51200  Train Loss: 1.474256\n",
      "Training Epoch: 2  iteration : 57600  Train Loss: 1.086236\n",
      "==============================================================\n",
      "---------------------------- Test ----------------------------\n",
      "Test Epoch: 2 Test Loss: 1.2375  Test Accuracy: 0.6065\n",
      "--------------------------------------------------------------\n",
      "============================ Train ===========================\n",
      "Training Epoch: 3  iteration :     0  Train Loss: 1.310609\n",
      "Training Epoch: 3  iteration :  6400  Train Loss: 1.110279\n",
      "Training Epoch: 3  iteration : 12800  Train Loss: 1.011217\n",
      "Training Epoch: 3  iteration : 19200  Train Loss: 0.999434\n",
      "Training Epoch: 3  iteration : 25600  Train Loss: 1.013226\n",
      "Training Epoch: 3  iteration : 32000  Train Loss: 0.708098\n",
      "Training Epoch: 3  iteration : 38400  Train Loss: 0.817066\n",
      "Training Epoch: 3  iteration : 44800  Train Loss: 0.911781\n",
      "Training Epoch: 3  iteration : 51200  Train Loss: 0.914862\n",
      "Training Epoch: 3  iteration : 57600  Train Loss: 0.754450\n",
      "==============================================================\n",
      "---------------------------- Test ----------------------------\n",
      "Test Epoch: 3 Test Loss: 0.7496  Test Accuracy: 0.7726\n",
      "--------------------------------------------------------------\n",
      "============================ Train ===========================\n",
      "Training Epoch: 4  iteration :     0  Train Loss: 0.633241\n",
      "Training Epoch: 4  iteration :  6400  Train Loss: 0.652282\n",
      "Training Epoch: 4  iteration : 12800  Train Loss: 0.652666\n",
      "Training Epoch: 4  iteration : 19200  Train Loss: 1.045652\n",
      "Training Epoch: 4  iteration : 25600  Train Loss: 0.934755\n",
      "Training Epoch: 4  iteration : 32000  Train Loss: 0.450263\n",
      "Training Epoch: 4  iteration : 38400  Train Loss: 0.535218\n",
      "Training Epoch: 4  iteration : 44800  Train Loss: 0.580409\n",
      "Training Epoch: 4  iteration : 51200  Train Loss: 0.651624\n",
      "Training Epoch: 4  iteration : 57600  Train Loss: 0.500668\n",
      "==============================================================\n",
      "---------------------------- Test ----------------------------\n",
      "Test Epoch: 4 Test Loss: 0.5608  Test Accuracy: 0.8335\n",
      "--------------------------------------------------------------\n",
      "============================ Train ===========================\n",
      "Training Epoch: 5  iteration :     0  Train Loss: 0.709833\n",
      "Training Epoch: 5  iteration :  6400  Train Loss: 0.485248\n",
      "Training Epoch: 5  iteration : 12800  Train Loss: 0.601257\n",
      "Training Epoch: 5  iteration : 19200  Train Loss: 0.543999\n",
      "Training Epoch: 5  iteration : 25600  Train Loss: 0.627099\n",
      "Training Epoch: 5  iteration : 32000  Train Loss: 0.494910\n",
      "Training Epoch: 5  iteration : 38400  Train Loss: 0.314658\n",
      "Training Epoch: 5  iteration : 44800  Train Loss: 0.372785\n",
      "Training Epoch: 5  iteration : 51200  Train Loss: 0.511444\n",
      "Training Epoch: 5  iteration : 57600  Train Loss: 0.605129\n",
      "==============================================================\n",
      "---------------------------- Test ----------------------------\n",
      "Test Epoch: 5 Test Loss: 0.4656  Test Accuracy: 0.8680\n",
      "--------------------------------------------------------------\n",
      "============================ Train ===========================\n",
      "Training Epoch: 6  iteration :     0  Train Loss: 0.567959\n",
      "Training Epoch: 6  iteration :  6400  Train Loss: 0.477551\n",
      "Training Epoch: 6  iteration : 12800  Train Loss: 0.830728\n",
      "Training Epoch: 6  iteration : 19200  Train Loss: 0.654530\n",
      "Training Epoch: 6  iteration : 25600  Train Loss: 0.577108\n",
      "Training Epoch: 6  iteration : 32000  Train Loss: 0.567123\n",
      "Training Epoch: 6  iteration : 38400  Train Loss: 0.535277\n",
      "Training Epoch: 6  iteration : 44800  Train Loss: 0.445225\n",
      "Training Epoch: 6  iteration : 51200  Train Loss: 0.200143\n",
      "Training Epoch: 6  iteration : 57600  Train Loss: 0.828062\n",
      "==============================================================\n",
      "---------------------------- Test ----------------------------\n",
      "Test Epoch: 6 Test Loss: 0.4145  Test Accuracy: 0.8793\n",
      "--------------------------------------------------------------\n",
      "============================ Train ===========================\n",
      "Training Epoch: 7  iteration :     0  Train Loss: 0.565022\n",
      "Training Epoch: 7  iteration :  6400  Train Loss: 0.259759\n",
      "Training Epoch: 7  iteration : 12800  Train Loss: 0.732533\n",
      "Training Epoch: 7  iteration : 19200  Train Loss: 0.372736\n",
      "Training Epoch: 7  iteration : 25600  Train Loss: 0.462169\n",
      "Training Epoch: 7  iteration : 32000  Train Loss: 0.596358\n",
      "Training Epoch: 7  iteration : 38400  Train Loss: 0.567300\n",
      "Training Epoch: 7  iteration : 44800  Train Loss: 0.422562\n",
      "Training Epoch: 7  iteration : 51200  Train Loss: 0.257183\n",
      "Training Epoch: 7  iteration : 57600  Train Loss: 0.208244\n",
      "==============================================================\n",
      "---------------------------- Test ----------------------------\n",
      "Test Epoch: 7 Test Loss: 0.3831  Test Accuracy: 0.8886\n",
      "--------------------------------------------------------------\n",
      "============================ Train ===========================\n",
      "Training Epoch: 8  iteration :     0  Train Loss: 0.751156\n",
      "Training Epoch: 8  iteration :  6400  Train Loss: 0.308778\n",
      "Training Epoch: 8  iteration : 12800  Train Loss: 0.564286\n",
      "Training Epoch: 8  iteration : 19200  Train Loss: 0.325378\n",
      "Training Epoch: 8  iteration : 25600  Train Loss: 0.459834\n",
      "Training Epoch: 8  iteration : 32000  Train Loss: 0.122892\n",
      "Training Epoch: 8  iteration : 38400  Train Loss: 0.362788\n",
      "Training Epoch: 8  iteration : 44800  Train Loss: 0.785192\n",
      "Training Epoch: 8  iteration : 51200  Train Loss: 0.345773\n",
      "Training Epoch: 8  iteration : 57600  Train Loss: 0.199921\n",
      "==============================================================\n",
      "---------------------------- Test ----------------------------\n",
      "Test Epoch: 8 Test Loss: 0.3646  Test Accuracy: 0.8931\n",
      "--------------------------------------------------------------\n",
      "============================ Train ===========================\n",
      "Training Epoch: 9  iteration :     0  Train Loss: 0.213547\n",
      "Training Epoch: 9  iteration :  6400  Train Loss: 0.120165\n",
      "Training Epoch: 9  iteration : 12800  Train Loss: 0.252859\n",
      "Training Epoch: 9  iteration : 19200  Train Loss: 0.303040\n",
      "Training Epoch: 9  iteration : 25600  Train Loss: 0.320157\n",
      "Training Epoch: 9  iteration : 32000  Train Loss: 0.302889\n",
      "Training Epoch: 9  iteration : 38400  Train Loss: 0.515862\n",
      "Training Epoch: 9  iteration : 44800  Train Loss: 0.457773\n",
      "Training Epoch: 9  iteration : 51200  Train Loss: 0.217901\n",
      "Training Epoch: 9  iteration : 57600  Train Loss: 0.226754\n",
      "==============================================================\n",
      "---------------------------- Test ----------------------------\n",
      "Test Epoch: 9 Test Loss: 0.3502  Test Accuracy: 0.8989\n",
      "--------------------------------------------------------------\n",
      "============================ Train ===========================\n",
      "Training Epoch: 10  iteration :     0  Train Loss: 0.498767\n"
     ]
    },
    {
     "name": "stdout",
     "output_type": "stream",
     "text": [
      "Training Epoch: 10  iteration :  6400  Train Loss: 0.543210\n",
      "Training Epoch: 10  iteration : 12800  Train Loss: 0.561122\n",
      "Training Epoch: 10  iteration : 19200  Train Loss: 0.353615\n",
      "Training Epoch: 10  iteration : 25600  Train Loss: 0.081553\n",
      "Training Epoch: 10  iteration : 32000  Train Loss: 0.309431\n",
      "Training Epoch: 10  iteration : 38400  Train Loss: 0.313476\n",
      "Training Epoch: 10  iteration : 44800  Train Loss: 0.674694\n",
      "Training Epoch: 10  iteration : 51200  Train Loss: 0.137903\n",
      "Training Epoch: 10  iteration : 57600  Train Loss: 0.241868\n",
      "==============================================================\n",
      "---------------------------- Test ----------------------------\n",
      "Test Epoch: 10 Test Loss: 0.3350  Test Accuracy: 0.9020\n",
      "--------------------------------------------------------------\n"
     ]
    }
   ],
   "source": [
    "for epoch in range(1, EPOCHS + 1):\n",
    "    train(model, train_loader, optimizer, log_interval = 200)\n",
    "    test_loss, test_accuracy = evaluate(model, test_loader)\n",
    "    print(\"---------------------------- Test ----------------------------\")\n",
    "    print(\"Test Epoch: {} Test Loss: {:.4f}  Test Accuracy: {:.4f}\".format(epoch, test_loss, test_accuracy))\n",
    "    print(\"--------------------------------------------------------------\")"
   ]
  },
  {
   "cell_type": "code",
   "execution_count": null,
   "metadata": {},
   "outputs": [],
   "source": []
  }
 ],
 "metadata": {
  "kernelspec": {
   "display_name": "Python 3",
   "language": "python",
   "name": "python3"
  },
  "language_info": {
   "codemirror_mode": {
    "name": "ipython",
    "version": 3
   },
   "file_extension": ".py",
   "mimetype": "text/x-python",
   "name": "python",
   "nbconvert_exporter": "python",
   "pygments_lexer": "ipython3",
   "version": "3.8.8"
  }
 },
 "nbformat": 4,
 "nbformat_minor": 2
}
