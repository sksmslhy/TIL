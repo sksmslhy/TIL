{
 "cells": [
  {
   "cell_type": "markdown",
   "metadata": {},
   "source": [
    "# Pytorch Practice\n",
    "\n",
    "\n",
    "> ### AutoEncoder using Pytorch on FashionMNIST dataset"
   ]
  },
  {
   "cell_type": "markdown",
   "metadata": {},
   "source": [
    "## 0. AE 모델의 설계 순서\n",
    "1. module import\n",
    "2. 모델 설계 시 활용하는 장비 확인\n",
    "3. data set download (split tran/test set)\n",
    "4. data 확인\n",
    "5. AE 모델 설계\n",
    "6. Optimizer, Objective Func 설정\n",
    "7. train data에 대한 모델 성능 확인하는 함수 정의 (ex. accuracy, loss)\n",
    "8. test data에 대한 모델의 성능 확인하는 함수 정의 (ex. accuracy, loss)\n",
    "9. AE 학습 실행하며 test set의 Reconstruction error 확인"
   ]
  },
  {
   "cell_type": "markdown",
   "metadata": {},
   "source": [
    "## 1. Module Import"
   ]
  },
  {
   "cell_type": "code",
   "execution_count": 1,
   "metadata": {},
   "outputs": [],
   "source": [
    "import numpy as np\n",
    "import matplotlib.pyplot as plt\n",
    "\n",
    "import torch\n",
    "import torch.nn as nn\n",
    "import torch.nn.functional as F\n",
    "from torchvision import transforms, datasets\n",
    "\n",
    "import warnings\n",
    "\n",
    "warnings.filterwarnings(action='ignore')"
   ]
  },
  {
   "cell_type": "markdown",
   "metadata": {},
   "source": [
    "## 2. 모델 설계 시 활용하는 장비 확인 (GPU?CPU?)"
   ]
  },
  {
   "cell_type": "code",
   "execution_count": 2,
   "metadata": {},
   "outputs": [
    {
     "name": "stdout",
     "output_type": "stream",
     "text": [
      "Using PyTorch version: 1.7.0+cu101  Device: cuda:0\n"
     ]
    }
   ],
   "source": [
    "if torch.cuda.is_available():\n",
    "    DEVICE = torch.device('cuda:0')\n",
    "else:\n",
    "    DEVICE = torch.device('cpu')\n",
    "print('Using PyTorch version:', torch.__version__, ' Device:', DEVICE)"
   ]
  },
  {
   "cell_type": "markdown",
   "metadata": {},
   "source": [
    "### 하이퍼파라미터 설정"
   ]
  },
  {
   "cell_type": "code",
   "execution_count": 3,
   "metadata": {},
   "outputs": [],
   "source": [
    "BATCH_SIZE = 32\n",
    "EPOCHS = 10"
   ]
  },
  {
   "cell_type": "markdown",
   "metadata": {},
   "source": [
    "## 3. Fashion MNIST Dataset Download\n",
    "MNIST 데이터셋은 손글씨 숫자 이미지다. Fashion MNIST는 옷 이미지와 동일한 포맷이다. Fashion MNIST는 일반적인 MNIST 보다 조금 더 어려운 문제다.  \n",
    "train에 60000개의 이미지를 사용하고 test에 10000개의 이미지를 사용한다."
   ]
  },
  {
   "cell_type": "code",
   "execution_count": 4,
   "metadata": {
    "scrolled": true
   },
   "outputs": [],
   "source": [
    "train_dataset = datasets.FashionMNIST(root = \"../data/FashionMNIST\",\n",
    "                                      train = True,\n",
    "                                      download = True,\n",
    "                                      transform = transforms.ToTensor())\n",
    "\n",
    "test_dataset = datasets.FashionMNIST(root = \"../data/FashionMNIST\",\n",
    "                                     train = False,\n",
    "                                     transform = transforms.ToTensor())\n",
    "\n",
    "train_loader = torch.utils.data.DataLoader(dataset = train_dataset,\n",
    "                                           batch_size = BATCH_SIZE,\n",
    "                                           shuffle = True)\n",
    "\n",
    "test_loader = torch.utils.data.DataLoader(dataset = test_dataset,\n",
    "                                          batch_size = BATCH_SIZE,\n",
    "                                          shuffle = False)"
   ]
  },
  {
   "cell_type": "markdown",
   "metadata": {},
   "source": [
    "- fashion mnist 데이터는 이미지 데이터이다. 데이터를 다운로드할 때 transform을 사용해 기본적인 전처리를 진행한다. ToTensor()는 데이터를 tensor형태로 변경시킨다. 또한 각각의 픽셀은  [0 to 255] 사이의 스칼라 값으로 구성되어 있는데 이를 [0 to 1] 사이의 값으로 정규화 한다.  \n",
    "- shuffle은 데이터의 순서를 섞고자 할 때 사용한다. 모델이 학습을 진행할 때 label 정보의 순서를 암기해 학습을 진행할 우려가 있으므로 데이터 순서를 섞어 학습한다."
   ]
  },
  {
   "cell_type": "markdown",
   "metadata": {},
   "source": [
    "## 4. 데이터 확인하기\n",
    "미니배치 단위로 할당한 데이터의 개수와 형태를 확인한다."
   ]
  },
  {
   "cell_type": "code",
   "execution_count": 5,
   "metadata": {},
   "outputs": [
    {
     "name": "stdout",
     "output_type": "stream",
     "text": [
      "X_train: torch.Size([32, 1, 28, 28]) type: torch.FloatTensor\n",
      "y_train: torch.Size([32]) type: torch.LongTensor\n"
     ]
    }
   ],
   "source": [
    "for (X_train, y_train) in train_loader:\n",
    "    print('X_train:', X_train.size(), 'type:', X_train.type())\n",
    "    print('y_train:', y_train.size(), 'type:', y_train.type())\n",
    "    break"
   ]
  },
  {
   "cell_type": "code",
   "execution_count": 6,
   "metadata": {},
   "outputs": [
    {
     "data": {
      "image/png": "[encoded data removed]",
      "text/plain": [
       "<Figure size 720x72 with 10 Axes>"
      ]
     },
     "metadata": {},
     "output_type": "display_data"
    }
   ],
   "source": [
    "pltsize = 1\n",
    "plt.figure(figsize=(10 * pltsize, pltsize))\n",
    "for i in range(10):\n",
    "    plt.subplot(1, 10, i + 1)\n",
    "    plt.axis('off')\n",
    "    plt.imshow(X_train[i, :, :, :].numpy().reshape(28, 28), cmap = \"gray_r\")\n",
    "    plt.title('Class: ' + str(y_train[i].item()))"
   ]
  },
  {
   "cell_type": "markdown",
   "metadata": {},
   "source": [
    "## 5. AutoEncoder 모델 설계\n",
    "AE는 인코더와 디코더로 이루어져 있다. MLP에서와 비슷하다.\n",
    "* 인코더의 첫 번째 레이어는 이미지 한 장을 입력으로 받고 512개의 node를 만든다.\n",
    "* 인코더의 두 번째 레이어는 512개의 input을 받고 256개의 node를 만든다.\n",
    "* 인코더의 세 번째 레이어는 256개의 input을 받고 32개의 node를 만든다.\n",
    "\n",
    "\n",
    "* 디코더의 첫 번째 레이어는 32개의 input을 받고 256개의 node를 만든다.\n",
    "* 디코더의 두 번째 레이어는 256개의 input을 받고 512개의 node를 만든다.\n",
    "* 디코더의 세 번째 레이어는 512개의 input을 받고 784(28 * 28)개의 node를 만든다."
   ]
  },
  {
   "cell_type": "code",
   "execution_count": 7,
   "metadata": {},
   "outputs": [],
   "source": [
    "class AE(nn.Module):\n",
    "    def __init__(self):\n",
    "        super(AE, self).__init__()\n",
    "        \n",
    "        self.encoder = nn.Sequential(\n",
    "            nn.Linear(28 * 28, 512),\n",
    "            nn.ReLU(),\n",
    "            nn.Linear(512, 256),\n",
    "            nn.ReLU(),\n",
    "            nn.Linear(256, 32),\n",
    "        )\n",
    "        \n",
    "        self.decoder = nn.Sequential(\n",
    "            nn.Linear(32, 256),\n",
    "            nn.ReLU(),\n",
    "            nn.Linear(256, 512),\n",
    "            nn.ReLU(),\n",
    "            nn.Linear(512, 28 * 28),\n",
    "        )\n",
    "\n",
    "    def forward(self, x):\n",
    "        encoded = self.encoder(x)\n",
    "        decoded = self.decoder(encoded)\n",
    "        return encoded, decoded"
   ]
  },
  {
   "cell_type": "markdown",
   "metadata": {},
   "source": [
    "AE는 MLP와 비슷한 구조를 가진다.  \n",
    "인코더와 디코더에 대해 forward propagation을 정의하는데, 먼저 이미지 데이터를 모델의 input으로 이용해 latent variable vector를 생성한다. 생성된 latent variable vector를 encoded로 저장한다. 그 후 encoded를 디코더의 input으로 사용한다."
   ]
  },
  {
   "cell_type": "markdown",
   "metadata": {},
   "source": [
    "## 6. Optimizer, Objective Function 설정\n",
    "모델을 device에 할당한다. optimizer로는 주로 Adam을 사용한다. loss로는 Mean Squared Error를 사용한다.(모델의 output값과 계산될 label 값은 이미지 데이터 그 자체이므로)"
   ]
  },
  {
   "cell_type": "code",
   "execution_count": 8,
   "metadata": {},
   "outputs": [
    {
     "name": "stdout",
     "output_type": "stream",
     "text": [
      "AE(\n",
      "  (encoder): Sequential(\n",
      "    (0): Linear(in_features=784, out_features=512, bias=True)\n",
      "    (1): ReLU()\n",
      "    (2): Linear(in_features=512, out_features=256, bias=True)\n",
      "    (3): ReLU()\n",
      "    (4): Linear(in_features=256, out_features=32, bias=True)\n",
      "  )\n",
      "  (decoder): Sequential(\n",
      "    (0): Linear(in_features=32, out_features=256, bias=True)\n",
      "    (1): ReLU()\n",
      "    (2): Linear(in_features=256, out_features=512, bias=True)\n",
      "    (3): ReLU()\n",
      "    (4): Linear(in_features=512, out_features=784, bias=True)\n",
      "  )\n",
      ")\n"
     ]
    }
   ],
   "source": [
    "model = AE().to(DEVICE)\n",
    "optimizer = torch.optim.Adam(model.parameters(), lr = 0.001)\n",
    "criterion = nn.MSELoss()\n",
    "\n",
    "print(model)"
   ]
  },
  {
   "cell_type": "markdown",
   "metadata": {},
   "source": [
    "### TIP\n",
    "\n",
    "torchsummary 패키지를 이용하면 pytorch에서도 keras처럼 모델을 깔끔하게 출력해볼 수 있다!"
   ]
  },
  {
   "cell_type": "code",
   "execution_count": 9,
   "metadata": {},
   "outputs": [],
   "source": [
    "# !pip install torchsummary"
   ]
  },
  {
   "cell_type": "code",
   "execution_count": 10,
   "metadata": {
    "scrolled": false
   },
   "outputs": [
    {
     "name": "stdout",
     "output_type": "stream",
     "text": [
      "----------------------------------------------------------------\n",
      "        Layer (type)               Output Shape         Param #\n",
      "================================================================\n",
      "            Linear-1               [-1, 1, 512]         401,920\n",
      "              ReLU-2               [-1, 1, 512]               0\n",
      "            Linear-3               [-1, 1, 256]         131,328\n",
      "              ReLU-4               [-1, 1, 256]               0\n",
      "            Linear-5                [-1, 1, 32]           8,224\n",
      "            Linear-6               [-1, 1, 256]           8,448\n",
      "              ReLU-7               [-1, 1, 256]               0\n",
      "            Linear-8               [-1, 1, 512]         131,584\n",
      "              ReLU-9               [-1, 1, 512]               0\n",
      "           Linear-10               [-1, 1, 784]         402,192\n",
      "================================================================\n",
      "Total params: 1,083,696\n",
      "Trainable params: 1,083,696\n",
      "Non-trainable params: 0\n",
      "----------------------------------------------------------------\n",
      "Input size (MB): 0.00\n",
      "Forward/backward pass size (MB): 0.03\n",
      "Params size (MB): 4.13\n",
      "Estimated Total Size (MB): 4.17\n",
      "----------------------------------------------------------------\n"
     ]
    }
   ],
   "source": [
    "from torchsummary import summary\n",
    "\n",
    "model = AE().to(DEVICE)\n",
    "summary(model, input_size=(1, 784)) # input_size = (channels, H, W)"
   ]
  },
  {
   "cell_type": "markdown",
   "metadata": {},
   "source": [
    "## 7. Train data에 대한 모델 성능 확인하는 함수 정의\n",
    "기존에 정의한 이미지 데이터와 레이블 데이터를 이용해 AE 모델을 학습하는 함수를 정의한다.\n",
    "\n",
    "- 모델을 학습 상태로 지정한다\n",
    "- train_loader에는 학습에 이용되는 이미지 데이터와 레이블 데이터가 mini-batch 단위로 묶여 저장되어 있다. 해당 train_loader 내의 미니배치 단위로 저장된 데이터를 순서대로 MLP 모델을 학습시킨다.  \n",
    "- 레이블 데이터를 활용해 학습하는 것이 아니라 입력 데이터를 타깃으로 학습하기 때문에 레이블 데이터를 이용할 필요가 없어, 기존에 이용된 label 값을 _로 설정해 생략한다.\n",
    "- 미니배치 내에 있는 데이터를 이용해 모델을 학습시키기 위해서는 모든 데이터를 DEVICE에 할당해야 한다. \n",
    "- 모델의 input은 1차원이므로 2차원인 이미지를 재구성(reshape)해야한다.\n",
    "- DEVICE에 데이터를 할당할 경우, 과거에 이용한 미니 배치 내에 있는 데이터를 바탕으로 계산된 loss의 gradient 값이 optimizer에 할당되어 있으므로 optimizer의 gradient를 초기화한다.\n",
    "- DEVICE에 할당한 이미지를 모델의 input으로, output을 계산한다. 계산된 output과 DEVICE의 이미지 데이터를 Mean Square Error를 이용해 loss를 계산한다.  \n",
    "- loss 값을 계산한 결과를 바탕으로 backpropagation을 통해 계산된 gradient 값을 각 파라미터에 할당하고, 할당된 gradient 값을 이용해 파라미터 값을 업데이트 한다."
   ]
  },
  {
   "cell_type": "code",
   "execution_count": 11,
   "metadata": {},
   "outputs": [],
   "source": [
    "def train(model, train_loader, optimizer, log_interval):\n",
    "    model.train()\n",
    "    for batch_idx, (image, _) in enumerate(train_loader):\n",
    "        image = image.view(-1, 28 * 28).to(DEVICE)\n",
    "        target = image.view(-1, 28 * 28).to(DEVICE)\n",
    "        optimizer.zero_grad()\n",
    "        encoded, decoded = model(image)\n",
    "        loss = criterion(decoded, target)\n",
    "        loss.backward()\n",
    "        optimizer.step()\n",
    "\n",
    "        if batch_idx % log_interval == 0:\n",
    "            print(\"Training Epoch: {}  iteration : {:5d}  Train Loss: {:.6f}\".format(epoch, batch_idx * len(image), loss.item()))\n",
    "        #if batch_idx % log_interval == 0:\n",
    "        #    print(\"Train Epoch: {} [{}/{} ({:.0f}%)]\\tTrain Loss: {:.6f}\".format(\n",
    "        #        epoch, batch_idx * len(image), \n",
    "        #        len(train_loader.dataset), 100. * batch_idx / len(train_loader), \n",
    "        #        loss.item()))\n",
    "    print(\"==============================================================\")"
   ]
  },
  {
   "cell_type": "markdown",
   "metadata": {},
   "source": [
    "## 8. Test data에 대한 모델의 성능 확인하는 함수 정의\n",
    "학습의 진행 과정을 모니터링하기 위한 함수이다.\n",
    "\n",
    "- 모델을 평가 상태로 지정한다.\n",
    "- test data를 통해 모델을 평가할 때는 gradient를 통해 파라미터 값이 업데이트 되면 안된다. 따라서 gradient의 흐름을 억제하는 코드를 작성해야 한다.\n",
    "- train과 비슷함."
   ]
  },
  {
   "cell_type": "code",
   "execution_count": 12,
   "metadata": {},
   "outputs": [],
   "source": [
    "def evaluate(model, test_loader):\n",
    "    model.eval()\n",
    "    test_loss = 0\n",
    "    real_image = []\n",
    "    gen_image = []\n",
    "    with torch.no_grad():\n",
    "        for image, _ in test_loader:\n",
    "            image = image.view(-1, 28 * 28).to(DEVICE)\n",
    "            target = image.view(-1, 28 * 28).to(DEVICE)\n",
    "            encoded, decoded = model(image)\n",
    "            \n",
    "            test_loss += criterion(decoded, image).item()\n",
    "            real_image.append(image.to(\"cpu\"))\n",
    "            gen_image.append(decoded.to(\"cpu\"))\n",
    "            \n",
    "    test_loss /= (len(test_loader.dataset) / BATCH_SIZE)\n",
    "\n",
    "    return test_loss, real_image, gen_image"
   ]
  },
  {
   "cell_type": "markdown",
   "metadata": {},
   "source": [
    "## 9. MLP 학습 실행"
   ]
  },
  {
   "cell_type": "code",
   "execution_count": null,
   "metadata": {
    "scrolled": false
   },
   "outputs": [],
   "source": [
    "for epoch in range(1, EPOCHS + 1):\n",
    "    train(model, train_loader, optimizer, log_interval = 200)\n",
    "    test_loss, real_image, gen_image = evaluate(model, test_loader)\n",
    "    print(\"---------------------------- Test ----------------------------\")\n",
    "    print(\"Test Epoch: {} Test Loss: {:.4f}\".format(epoch, test_loss))\n",
    "    \n",
    "    f, a = plt.subplots(2, 10, figsize = (10, 4))\n",
    "    for i in range(10):\n",
    "        img = np.reshape(real_image[0][i], (28, 28))\n",
    "        a[0][i].imshow(img, cmap = \"gray_r\")\n",
    "        a[0][i].set_xticks(())\n",
    "        a[0][i].set_yticks(())\n",
    "    \n",
    "    for i in range(10):\n",
    "        img = np.reshape(gen_image[0][i], (28, 28))\n",
    "        a[1][i].imshow(img, cmap = \"gray_r\")\n",
    "        a[1][i].set_xticks(())\n",
    "        a[1][i].set_yticks(())\n",
    "    plt.show()\n",
    "    print(\"--------------------------------------------------------------\")"
   ]
  },
  {
   "cell_type": "code",
   "execution_count": null,
   "metadata": {},
   "outputs": [],
   "source": []
  }
 ],
 "metadata": {
  "kernelspec": {
   "display_name": "Environment (conda_pytorch_p36)",
   "language": "python",
   "name": "conda_pytorch_p36"
  },
  "language_info": {
   "codemirror_mode": {
    "name": "ipython",
    "version": 3
   },
   "file_extension": ".py",
   "mimetype": "text/x-python",
   "name": "python",
   "nbconvert_exporter": "python",
   "pygments_lexer": "ipython3",
   "version": "3.6.5"
  }
 },
 "nbformat": 4,
 "nbformat_minor": 2
}
