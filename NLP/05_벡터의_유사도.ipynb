{
  "nbformat": 4,
  "nbformat_minor": 0,
  "metadata": {
    "colab": {
      "name": "05_벡터의_유사도.ipynb",
      "provenance": [],
      "include_colab_link": true
    },
    "kernelspec": {
      "display_name": "Python 3",
      "language": "python",
      "name": "python3"
    },
    "language_info": {
      "codemirror_mode": {
        "name": "ipython",
        "version": 3
      },
      "file_extension": ".py",
      "mimetype": "text/x-python",
      "name": "python",
      "nbconvert_exporter": "python",
      "pygments_lexer": "ipython3",
      "version": "3.8.5"
    }
  },
  "cells": [
    {
      "cell_type": "markdown",
      "metadata": {
        "id": "view-in-github",
        "colab_type": "text"
      },
      "source": [
        "<a href=\"https://colab.research.google.com/github/sksmslhy/TIL/blob/master/05_%E1%84%87%E1%85%A6%E1%86%A8%E1%84%90%E1%85%A5%E1%84%8B%E1%85%B4_%E1%84%8B%E1%85%B2%E1%84%89%E1%85%A1%E1%84%83%E1%85%A9.ipynb\" target=\"_parent\"><img src=\"https://colab.research.google.com/assets/colab-badge.svg\" alt=\"Open In Colab\"/></a>"
      ]
    },
    {
      "cell_type": "markdown",
      "metadata": {
        "id": "rM5Sd_YcXzVc"
      },
      "source": [
        "# **1) 코사인 유사도(Cosine Similarity)**"
      ]
    },
    {
      "cell_type": "markdown",
      "metadata": {
        "id": "PFtu74gJYBAu"
      },
      "source": [
        "---\n",
        "## **1. 코사인 유사도(Cosine Similarity)**\n",
        "두 벡터 간의 코사인 각도를 이용해 구할 수 있는 두 벡터의 유사도를 의미.  \n",
        "\n",
        "\n",
        "<img src=\"https://wikidocs.net/images/page/24603/%EC%BD%94%EC%82%AC%EC%9D%B8%EC%9C%A0%EC%82%AC%EB%8F%84.PNG\">\n",
        "\n",
        "\n",
        "두 벡터에 A, B에 대해서 코사인 유사도는 식으로 다음과 같이 표현됨  \n",
        "\n",
        "\n",
        "$similarity=cos(Θ)=\\frac{A⋅B}{||A||\\ ||B||}=\\frac{\\sum_{i=1}^{n}{A_{i}×B_{i}}}{\\sqrt{\\sum_{i=1}^{n}(A_{i})^2}×\\sqrt{\\sum_{i=1}^{n}(B_{i})^2}}$"
      ]
    },
    {
      "cell_type": "markdown",
      "metadata": {
        "id": "xek2dxtuYm3Q"
      },
      "source": [
        "문서 단어 행렬에 대해 코사인 유사도를 구해보자.\n",
        "\n",
        "문서1 : 저는 사과 좋아요  \n",
        "문서2 : 저는 바나나 좋아요\n",
        "문서3 : 저는 바나나 좋아요 저는 바나나 좋아요\n"
      ]
    },
    {
      "cell_type": "markdown",
      "metadata": {
        "id": "f-sGRAJVZFYI"
      },
      "source": [
        "|-|바나나|사과|저는|좋아요|\n",
        "|---|---|---|---|---|\n",
        "|문서1|0|1|1|1|\n",
        "|문서2|1|0|1|1|\n",
        "|문서3|2|0|2|2|\n"
      ]
    },
    {
      "cell_type": "code",
      "metadata": {
        "id": "NAV98JWtYAdm"
      },
      "source": [
        "from numpy import dot\n",
        "from numpy.linalg import norm\n",
        "import numpy as np\n",
        "def cos_sim(A, B):\n",
        "       return dot(A, B)/(norm(A)*norm(B))"
      ],
      "execution_count": null,
      "outputs": []
    },
    {
      "cell_type": "code",
      "metadata": {
        "id": "9QpD6MefZPNw"
      },
      "source": [
        "# 각각에 대한 BoW\n",
        "doc1=np.array([0,1,1,1])\n",
        "doc2=np.array([1,0,1,1])\n",
        "doc3=np.array([2,0,2,2])"
      ],
      "execution_count": null,
      "outputs": []
    },
    {
      "cell_type": "code",
      "metadata": {
        "colab": {
          "base_uri": "https://localhost:8080/"
        },
        "id": "4wz1O-jdhigf",
        "outputId": "8f077317-fa1f-4797-b5ec-9385ab37b6ce"
      },
      "source": [
        "print(cos_sim(doc1, doc2)) #문서1과 문서2의 코사인 유사도\n",
        "print(cos_sim(doc1, doc3)) #문서1과 문서3의 코사인 유사도\n",
        "print(cos_sim(doc2, doc3)) #문서2과 문서3의 코사인 유사도"
      ],
      "execution_count": null,
      "outputs": [
        {
          "output_type": "stream",
          "text": [
            "0.6666666666666667\n",
            "0.6666666666666667\n",
            "1.0000000000000002\n"
          ],
          "name": "stdout"
        }
      ]
    },
    {
      "cell_type": "markdown",
      "metadata": {
        "id": "xz4MRnHAhv3F"
      },
      "source": [
        "---\n",
        "## **2. 유사도를 이용한 추천 시스템 구현하기**\n",
        "영화 추천 시스템 만들기  \n",
        "Data Set : [다운로드](https://www.kaggle.com/rounakbanik/the-movies-dataset)"
      ]
    },
    {
      "cell_type": "code",
      "metadata": {
        "id": "-XvpdOhZhj6d"
      },
      "source": [
        "import pandas as pd\n",
        "from sklearn.feature_extraction.text import TfidfVectorizer\n",
        "from sklearn.metrics.pairwise import linear_kernel"
      ],
      "execution_count": null,
      "outputs": []
    },
    {
      "cell_type": "code",
      "metadata": {
        "id": "U9B8yFdisMD-",
        "outputId": "badb2582-397b-4201-c99d-3e607c2e5756"
      },
      "source": [
        "data = pd.read_csv('movies_metadata.csv', low_memory=False)\n",
        "data.head(2)"
      ],
      "execution_count": null,
      "outputs": [
        {
          "output_type": "execute_result",
          "data": {
            "text/html": [
              "<div>\n",
              "<style scoped>\n",
              "    .dataframe tbody tr th:only-of-type {\n",
              "        vertical-align: middle;\n",
              "    }\n",
              "\n",
              "    .dataframe tbody tr th {\n",
              "        vertical-align: top;\n",
              "    }\n",
              "\n",
              "    .dataframe thead th {\n",
              "        text-align: right;\n",
              "    }\n",
              "</style>\n",
              "<table border=\"1\" class=\"dataframe\">\n",
              "  <thead>\n",
              "    <tr style=\"text-align: right;\">\n",
              "      <th></th>\n",
              "      <th>adult</th>\n",
              "      <th>belongs_to_collection</th>\n",
              "      <th>budget</th>\n",
              "      <th>genres</th>\n",
              "      <th>homepage</th>\n",
              "      <th>id</th>\n",
              "      <th>imdb_id</th>\n",
              "      <th>original_language</th>\n",
              "      <th>original_title</th>\n",
              "      <th>overview</th>\n",
              "      <th>...</th>\n",
              "      <th>release_date</th>\n",
              "      <th>revenue</th>\n",
              "      <th>runtime</th>\n",
              "      <th>spoken_languages</th>\n",
              "      <th>status</th>\n",
              "      <th>tagline</th>\n",
              "      <th>title</th>\n",
              "      <th>video</th>\n",
              "      <th>vote_average</th>\n",
              "      <th>vote_count</th>\n",
              "    </tr>\n",
              "  </thead>\n",
              "  <tbody>\n",
              "    <tr>\n",
              "      <th>0</th>\n",
              "      <td>False</td>\n",
              "      <td>{'id': 10194, 'name': 'Toy Story Collection', ...</td>\n",
              "      <td>30000000</td>\n",
              "      <td>[{'id': 16, 'name': 'Animation'}, {'id': 35, '...</td>\n",
              "      <td>http://toystory.disney.com/toy-story</td>\n",
              "      <td>862</td>\n",
              "      <td>tt0114709</td>\n",
              "      <td>en</td>\n",
              "      <td>Toy Story</td>\n",
              "      <td>Led by Woody, Andy's toys live happily in his ...</td>\n",
              "      <td>...</td>\n",
              "      <td>1995-10-30</td>\n",
              "      <td>373554033.0</td>\n",
              "      <td>81.0</td>\n",
              "      <td>[{'iso_639_1': 'en', 'name': 'English'}]</td>\n",
              "      <td>Released</td>\n",
              "      <td>NaN</td>\n",
              "      <td>Toy Story</td>\n",
              "      <td>False</td>\n",
              "      <td>7.7</td>\n",
              "      <td>5415.0</td>\n",
              "    </tr>\n",
              "    <tr>\n",
              "      <th>1</th>\n",
              "      <td>False</td>\n",
              "      <td>NaN</td>\n",
              "      <td>65000000</td>\n",
              "      <td>[{'id': 12, 'name': 'Adventure'}, {'id': 14, '...</td>\n",
              "      <td>NaN</td>\n",
              "      <td>8844</td>\n",
              "      <td>tt0113497</td>\n",
              "      <td>en</td>\n",
              "      <td>Jumanji</td>\n",
              "      <td>When siblings Judy and Peter discover an encha...</td>\n",
              "      <td>...</td>\n",
              "      <td>1995-12-15</td>\n",
              "      <td>262797249.0</td>\n",
              "      <td>104.0</td>\n",
              "      <td>[{'iso_639_1': 'en', 'name': 'English'}, {'iso...</td>\n",
              "      <td>Released</td>\n",
              "      <td>Roll the dice and unleash the excitement!</td>\n",
              "      <td>Jumanji</td>\n",
              "      <td>False</td>\n",
              "      <td>6.9</td>\n",
              "      <td>2413.0</td>\n",
              "    </tr>\n",
              "  </tbody>\n",
              "</table>\n",
              "<p>2 rows × 24 columns</p>\n",
              "</div>"
            ],
            "text/plain": [
              "   adult                              belongs_to_collection    budget  \\\n",
              "0  False  {'id': 10194, 'name': 'Toy Story Collection', ...  30000000   \n",
              "1  False                                                NaN  65000000   \n",
              "\n",
              "                                              genres  \\\n",
              "0  [{'id': 16, 'name': 'Animation'}, {'id': 35, '...   \n",
              "1  [{'id': 12, 'name': 'Adventure'}, {'id': 14, '...   \n",
              "\n",
              "                               homepage    id    imdb_id original_language  \\\n",
              "0  http://toystory.disney.com/toy-story   862  tt0114709                en   \n",
              "1                                   NaN  8844  tt0113497                en   \n",
              "\n",
              "  original_title                                           overview  ...  \\\n",
              "0      Toy Story  Led by Woody, Andy's toys live happily in his ...  ...   \n",
              "1        Jumanji  When siblings Judy and Peter discover an encha...  ...   \n",
              "\n",
              "  release_date      revenue runtime  \\\n",
              "0   1995-10-30  373554033.0    81.0   \n",
              "1   1995-12-15  262797249.0   104.0   \n",
              "\n",
              "                                    spoken_languages    status  \\\n",
              "0           [{'iso_639_1': 'en', 'name': 'English'}]  Released   \n",
              "1  [{'iso_639_1': 'en', 'name': 'English'}, {'iso...  Released   \n",
              "\n",
              "                                     tagline      title  video vote_average  \\\n",
              "0                                        NaN  Toy Story  False          7.7   \n",
              "1  Roll the dice and unleash the excitement!    Jumanji  False          6.9   \n",
              "\n",
              "  vote_count  \n",
              "0     5415.0  \n",
              "1     2413.0  \n",
              "\n",
              "[2 rows x 24 columns]"
            ]
          },
          "metadata": {
            "tags": []
          },
          "execution_count": 6
        }
      ]
    },
    {
      "cell_type": "code",
      "metadata": {
        "id": "QFyZ1xn7sMD_"
      },
      "source": [
        "# 2000개의 데이터만 가지고 학습을 진행할 것임\n",
        "data = data.head(20000)"
      ],
      "execution_count": null,
      "outputs": []
    },
    {
      "cell_type": "code",
      "metadata": {
        "id": "TwCA93FxsMD_",
        "outputId": "e61f1bea-4bdf-4c2f-d9ed-8629d9fe5c3a"
      },
      "source": [
        "# null값 확인\n",
        "data['overview'].isnull().sum()"
      ],
      "execution_count": null,
      "outputs": [
        {
          "output_type": "execute_result",
          "data": {
            "text/plain": [
              "135"
            ]
          },
          "metadata": {
            "tags": []
          },
          "execution_count": 9
        }
      ]
    },
    {
      "cell_type": "code",
      "metadata": {
        "id": "qz-5mTZbsMEA"
      },
      "source": [
        "# overview에서 Null 값을 가진 경우에는 Null 값을 제거\n",
        "data['overview'] = data['overview'].fillna('')"
      ],
      "execution_count": null,
      "outputs": []
    },
    {
      "cell_type": "code",
      "metadata": {
        "id": "Pewd_HY8sMEA",
        "outputId": "8c34a6ef-0bea-4f80-8478-6c41ac803ae1"
      },
      "source": [
        "tfidf = TfidfVectorizer(stop_words='english')\n",
        "# overview에 대해서 tf-idf 수행\n",
        "tfidf_matrix = tfidf.fit_transform(data['overview'])\n",
        "print(tfidf_matrix.shape)"
      ],
      "execution_count": null,
      "outputs": [
        {
          "output_type": "stream",
          "text": [
            "(20000, 47487)\n"
          ],
          "name": "stdout"
        }
      ]
    },
    {
      "cell_type": "code",
      "metadata": {
        "id": "6ju_lsPAsMEA"
      },
      "source": [
        "cosine_sim = linear_kernel(tfidf_matrix, tfidf_matrix)"
      ],
      "execution_count": null,
      "outputs": []
    },
    {
      "cell_type": "code",
      "metadata": {
        "id": "3qQlOQ2wsMEA",
        "outputId": "ec002869-7a64-440f-ed56-97ec9939858a"
      },
      "source": [
        "# 영화 타이틀과 인덱스를 가진 테이블 생성.\n",
        "indices = pd.Series(data.index, index=data['title']).drop_duplicates()\n",
        "print(indices.head())"
      ],
      "execution_count": null,
      "outputs": [
        {
          "output_type": "stream",
          "text": [
            "title\n",
            "Toy Story                      0\n",
            "Jumanji                        1\n",
            "Grumpier Old Men               2\n",
            "Waiting to Exhale              3\n",
            "Father of the Bride Part II    4\n",
            "dtype: int64\n"
          ],
          "name": "stdout"
        }
      ]
    },
    {
      "cell_type": "code",
      "metadata": {
        "id": "UPo8BVaBsMEB",
        "outputId": "87b29442-f4b8-4033-f8c9-f7dcaf10ddf1"
      },
      "source": [
        "# 영화 타이틀을 입력하면 인덱스를 리턴\n",
        "idx = indices['Father of the Bride Part II']\n",
        "print(idx)"
      ],
      "execution_count": null,
      "outputs": [
        {
          "output_type": "stream",
          "text": [
            "4\n"
          ],
          "name": "stdout"
        }
      ]
    },
    {
      "cell_type": "code",
      "metadata": {
        "id": "Buev24YXsMEB"
      },
      "source": [
        "def get_recommendations(title, cosine_sim=cosine_sim):\n",
        "    # 선택한 영화의 인덱스 받아옴.\n",
        "    idx = indices[title]\n",
        "\n",
        "    # 모든 영화에 대해서 해당 영화와의 유사도 구함\n",
        "    sim_scores = list(enumerate(cosine_sim[idx]))\n",
        "\n",
        "    # 유사도에 따라 정렬\n",
        "    sim_scores = sorted(sim_scores, key=lambda x: x[1], reverse=True)\n",
        "\n",
        "    # 가장 유사한 10개의 영화\n",
        "    sim_scores = sim_scores[1:11]\n",
        "\n",
        "    # 가장 유사한 10개의 영화의 인덱스\n",
        "    movie_indices = [i[0] for i in sim_scores]\n",
        "\n",
        "    # 가장 유사한 10개의 영화의 제목 리턴\n",
        "    return data['title'].iloc[movie_indices]"
      ],
      "execution_count": null,
      "outputs": []
    },
    {
      "cell_type": "code",
      "metadata": {
        "id": "GAqAbGh1sMEB",
        "outputId": "98c3b6ff-eee6-4db4-a0d6-3c5c13a124f3"
      },
      "source": [
        "get_recommendations('The Dark Knight Rises')"
      ],
      "execution_count": null,
      "outputs": [
        {
          "output_type": "execute_result",
          "data": {
            "text/plain": [
              "12481                            The Dark Knight\n",
              "150                               Batman Forever\n",
              "1328                              Batman Returns\n",
              "15511                 Batman: Under the Red Hood\n",
              "585                                       Batman\n",
              "9230          Batman Beyond: Return of the Joker\n",
              "18035                           Batman: Year One\n",
              "19792    Batman: The Dark Knight Returns, Part 1\n",
              "3095                Batman: Mask of the Phantasm\n",
              "10122                              Batman Begins\n",
              "Name: title, dtype: object"
            ]
          },
          "metadata": {
            "tags": []
          },
          "execution_count": 17
        }
      ]
    },
    {
      "cell_type": "code",
      "metadata": {
        "id": "yL__-taesMEB"
      },
      "source": [
        ""
      ],
      "execution_count": null,
      "outputs": []
    },
    {
      "cell_type": "markdown",
      "metadata": {
        "id": "USSjcv2Msc4f"
      },
      "source": [
        "**코사인 유사도에 관한 재밌는 사이트**\n",
        "- [wevi](https://ronxin.github.io/wevi/)\n",
        "- [Word2Vec을 우리 말에](https://word2vec.kr/search/?query=)"
      ]
    },
    {
      "cell_type": "markdown",
      "metadata": {
        "id": "IJG0CLkesMEC"
      },
      "source": [
        "---\n",
        "# **2. 여러가지 유사도 기법**\n",
        "## **1. 유클리드 거리(Euclidean distance)**\n",
        "다차원 공간에서 두 개의 점 $p$와 $q$가 각각 $p=(p_{1}, p_{2}, p_{3}, ... , p_{n})$과 $q=(q_{1}, q_{2}, q_{3}, ... , q_{n})$의 좌표를 가질 때 두 점 사이의 거리는 계산하는 유클리드 거리 공식은 다음과 같음.\n",
        "\n",
        "$\\sqrt{(q_{1}-p_{1})^{2}+(q_{2}-p_{2})^{2}+\\ ...\\ +(q_{n}-p_{n})^{2}}=\\sqrt{\\sum_{i=1}^{n}(q_{i}-p_{i})^{2}}$"
      ]
    },
    {
      "cell_type": "markdown",
      "metadata": {
        "id": "mq6hLaMcsMEC"
      },
      "source": [
        "두 점 사이의 거리  \n",
        "<img src=\"https://wikidocs.net/images/page/24654/2%EC%B0%A8%EC%9B%90_%ED%8F%89%EB%A9%B4.png\">  \n",
        "직각삼각형으로 표현 가능하므로 피타고라서 정리를 통해 $p$와 $q$ 사이의 거리를 계산할 수 있음.\n",
        "\n",
        "Example.\n",
        "다음과 같은 DTM이 있다고 하자.\n",
        "\n",
        "|-|바나나|사과|저는|좋아요|\n",
        "|---|---|---|---|---|\n",
        "|문서1|2|3|0|1|\n",
        "|문서2|1|2|3|1|\n",
        "|문서3|2|1|2|2|  \n",
        "\n",
        "\n",
        "단어의 개수가 4개이므로 4차원 공간에 각각의 문서들을 배치하는 것과 같음. 이들 중 다음 문서Q에 대해 가장 유사한 문서를 찾아내보자.\n",
        "\n",
        "|-|바나나|사과|저는|좋아요|\n",
        "|---|---|---|---|---|\n",
        "|문서Q|1|1|0|1|"
      ]
    },
    {
      "cell_type": "markdown",
      "metadata": {
        "id": "e9ax5KZBsMEC"
      },
      "source": [
        "# "
      ]
    },
    {
      "cell_type": "code",
      "metadata": {
        "id": "kpdGb7VUsMEC",
        "outputId": "d202bb5f-c021-49f7-bda3-8220b32cc45a"
      },
      "source": [
        "import numpy as np\n",
        "def dist(x,y):   \n",
        "    return np.sqrt(np.sum((x-y)**2))\n",
        "\n",
        "doc1 = np.array((2,3,0,1))\n",
        "doc2 = np.array((1,2,3,1))\n",
        "doc3 = np.array((2,1,2,2))\n",
        "docQ = np.array((1,1,0,1))\n",
        "\n",
        "print(dist(doc1,docQ))\n",
        "print(dist(doc2,docQ))\n",
        "print(dist(doc3,docQ))"
      ],
      "execution_count": null,
      "outputs": [
        {
          "output_type": "stream",
          "text": [
            "2.23606797749979\n",
            "3.1622776601683795\n",
            "2.449489742783178\n"
          ],
          "name": "stdout"
        }
      ]
    },
    {
      "cell_type": "markdown",
      "metadata": {
        "id": "WwGMAfaesMEC"
      },
      "source": [
        "유클리드 거리의 값이 작을수록 문서 간 거리가 가깝다!"
      ]
    },
    {
      "cell_type": "markdown",
      "metadata": {
        "id": "6N2H74d9sMED"
      },
      "source": [
        "## **2. 자카드 유사도(Jaccard similarity)**\n",
        "idea : 합집합에서 교집합의 비율을 구하자. (두 문서에서 공통적으로 등장한 단어의 비율~)  \n",
        "자카드 유사도는 0과 1 사이의 값을 가지며 자카드 유사도를 구하는 함수를 J라고 했을 때, 자카드 유사도 함수 J는 다음과 같다.  \n",
        "\n",
        "$J(A,B)=\\frac{|A∩B|}{|A∪B|}=\\frac{|A∩B|}{|A|+|B|-|A∩B|}$  \n",
        "\n",
        "\n",
        "$J(doc_{1},doc_{2})=\\frac{doc_{1}∩doc_{2}}{doc_{1}∪doc_{2}}$"
      ]
    },
    {
      "cell_type": "code",
      "metadata": {
        "id": "s4MUPZ8vsMED",
        "outputId": "51ec2baa-9137-4037-a7b6-105e6829eebf"
      },
      "source": [
        "doc1 = \"apple banana everyone like likey watch card holder\"\n",
        "doc2 = \"apple banana coupon passport love you\"\n",
        "\n",
        "# 토큰화\n",
        "tokenized_doc1 = doc1.split()\n",
        "tokenized_doc2 = doc2.split()\n",
        "\n",
        "# 토큰화 결과 출력\n",
        "print(tokenized_doc1)\n",
        "print(tokenized_doc2)"
      ],
      "execution_count": null,
      "outputs": [
        {
          "output_type": "stream",
          "text": [
            "['apple', 'banana', 'everyone', 'like', 'likey', 'watch', 'card', 'holder']\n",
            "['apple', 'banana', 'coupon', 'passport', 'love', 'you']\n"
          ],
          "name": "stdout"
        }
      ]
    },
    {
      "cell_type": "code",
      "metadata": {
        "id": "-qFjb3-KsMED",
        "outputId": "08d538cc-d480-403e-d824-37252c15fa02"
      },
      "source": [
        "# 두 문서의 합집합\n",
        "union = set(tokenized_doc1).union(set(tokenized_doc2))\n",
        "print(union)"
      ],
      "execution_count": null,
      "outputs": [
        {
          "output_type": "stream",
          "text": [
            "{'holder', 'likey', 'coupon', 'you', 'card', 'love', 'banana', 'watch', 'everyone', 'passport', 'apple', 'like'}\n"
          ],
          "name": "stdout"
        }
      ]
    },
    {
      "cell_type": "code",
      "metadata": {
        "id": "I8BJlfR4sMED",
        "outputId": "bfa08d9c-4cbf-4b0a-efce-f0d64c68ae9c"
      },
      "source": [
        "# 두 문서의 교집합\n",
        "intersection = set(tokenized_doc1).intersection(set(tokenized_doc2))\n",
        "print(intersection)"
      ],
      "execution_count": null,
      "outputs": [
        {
          "output_type": "stream",
          "text": [
            "{'apple', 'banana'}\n"
          ],
          "name": "stdout"
        }
      ]
    },
    {
      "cell_type": "code",
      "metadata": {
        "id": "8mLZx7W0sMED",
        "outputId": "e5eeae68-5896-4891-e35e-ffe5a70a0639"
      },
      "source": [
        "# 교집합의 수를 합집합의 수로 나누면 자카드 유사도가 된다.\n",
        "print(\"문서1과 문서2의 Jaccard similarity :\", len(intersection)/len(union))"
      ],
      "execution_count": null,
      "outputs": [
        {
          "output_type": "stream",
          "text": [
            "문서1과 문서2의 Jaccard similarity : 0.16666666666666666\n"
          ],
          "name": "stdout"
        }
      ]
    },
    {
      "cell_type": "code",
      "metadata": {
        "id": "XZJIfFh2sMEE"
      },
      "source": [
        ""
      ],
      "execution_count": null,
      "outputs": []
    }
  ]
}