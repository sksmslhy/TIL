{
  "nbformat": 4,
  "nbformat_minor": 0,
  "metadata": {
    "colab": {
      "name": "ResNet50.ipynb",
      "provenance": []
    },
    "kernelspec": {
      "name": "python3",
      "display_name": "Python 3"
    },
    "accelerator": "GPU"
  },
  "cells": [
    {
      "cell_type": "code",
      "metadata": {
        "id": "URURPHf3U40J"
      },
      "source": [
        "# convolution : 파라미터 수를 줄여나가는 과정\r\n",
        "# padding : conv에서 정보 소실 방지. valid - 패딩 X(차원 축소됨), same - 차원 유지\r\n",
        "# filter : 몇 개의 다른 종류의 필터를 활용할 것인지. 출력 모양의 depth를 결정\r\n",
        "# kernel : 연산 수행 시 윈도우 크기\r\n",
        "# strides : 연산 수행 시 한 번에 얼마나 움직일지\r\n",
        "\r\n",
        "import tensorflow as tf\r\n",
        "from tensorflow.keras.layers import Conv2D, BatchNormalization, Activation, Add ,Input, ZeroPadding2D, MaxPooling2D, AveragePooling2D, Flatten, Dense"
      ],
      "execution_count": null,
      "outputs": []
    },
    {
      "cell_type": "code",
      "metadata": {
        "id": "bibatSECtQur"
      },
      "source": [
        "# dimension은 변하지 않으나 depth는 변함.\r\n",
        "def res_identity(x, filters): \r\n",
        "  x_skip = x \r\n",
        "  f1, f2 = filters\r\n",
        "\r\n",
        "  x = Conv2D(f1, kernel_size=(1, 1), strides=(1, 1), padding='valid', kernel_regularizer=l2(0.001))(x)\r\n",
        "  x = BatchNormalization()(x)\r\n",
        "  x = Activation(activations.relu)(x)\r\n",
        "  \r\n",
        "  x = Conv2D(f1, kernel_size=(3, 3), strides=(1, 1), padding='same', kernel_regularizer=l2(0.001))(x)\r\n",
        "  x = BatchNormalization()(x)\r\n",
        "  x = Activation(activations.relu)(x)\r\n",
        "\r\n",
        "  x = Conv2D(f2, kernel_size=(1, 1), strides=(1, 1), padding='valid', kernel_regularizer=l2(0.001))(x)\r\n",
        "  x = BatchNormalization()(x)\r\n",
        "\r\n",
        "  x = Add()([x, x_skip])\r\n",
        "  x = Activation(activations.relu)(x)\r\n",
        "  \r\n",
        "  return x"
      ],
      "execution_count": null,
      "outputs": []
    },
    {
      "cell_type": "code",
      "metadata": {
        "id": "FXfPoiZKqvoD"
      },
      "source": [
        "# dimension 바뀔 때\r\n",
        "\r\n",
        "def res_conv(x, s, filters):\r\n",
        "  x_skip = x\r\n",
        "  f1, f2 = filters\r\n",
        "\r\n",
        "  x = Conv2D(f1, kernel_size=(1, 1), strides=(s, s), padding='valid', kernel_regularizer=l2(0.001))(x)\r\n",
        "  x = BatchNormalization()(x)\r\n",
        "  x = Activation(activations.relu)(x)\r\n",
        "\r\n",
        "  x = Conv2D(f1, kernel_size=(3, 3), strides=(1, 1), padding='same', kernel_regularizer=l2(0.001))(x)\r\n",
        "  x = BatchNormalization()(x)\r\n",
        "  x = Activation(activations.relu)(x)\r\n",
        "\r\n",
        "  x = Conv2D(f2, kernel_size=(1, 1), strides=(1, 1), padding='valid', kernel_regularizer=l2(0.001))(x)\r\n",
        "  x = BatchNormalization()(x)\r\n",
        "\r\n",
        "  # shortcut \r\n",
        "  x_skip = Conv2D(f2, kernel_size=(1, 1), strides=(s, s), padding='valid', kernel_regularizer=l2(0.001))(x_skip)\r\n",
        "  x_skip = BatchNormalization()(x_skip)\r\n",
        "\r\n",
        "  x = Add()([x, x_skip])\r\n",
        "  x = Activation(activations.relu)(x)\r\n",
        "\r\n",
        "  return x\r\n",
        "  \r\n"
      ],
      "execution_count": null,
      "outputs": []
    }
  ]
}