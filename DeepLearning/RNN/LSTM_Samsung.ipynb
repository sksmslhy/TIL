{
  "nbformat": 4,
  "nbformat_minor": 0,
  "metadata": {
    "colab": {
      "name": "LSTM_Samsung.ipynb",
      "provenance": []
    },
    "kernelspec": {
      "name": "python3",
      "display_name": "Python 3"
    }
  },
  "cells": [
    {
      "cell_type": "markdown",
      "metadata": {
        "id": "gsC4cN8OkY8B"
      },
      "source": [
        "# **LSTM으로 Samsung 주가 예측하기**\r\n",
        "## **LSTM이란**\r\n",
        "RNN(Recurrent Neural Networks의 한 종류, **순서**가 중요한 feature의 요소일 때 흔히 적용한다. (언어, 주가 등)  \r\n",
        "따라서 **squence**를 저장하고 이를 학습에 활용한다.  \r\n",
        "\r\n",
        "\r\n",
        "<p align=\"center\"><img src=\"https://teddylee777.github.io/images/2020-02-14/RNN-simple-cell-versus-LSTM-cell-4.png\" height=\"260\"></p>\r\n"
      ]
    },
    {
      "cell_type": "code",
      "metadata": {
        "id": "EzLSz1vSk-By"
      },
      "source": [
        "import pandas as pd\r\n",
        "import tensorflow as tf\r\n",
        "import numpy as np"
      ],
      "execution_count": 1,
      "outputs": []
    },
    {
      "cell_type": "code",
      "metadata": {
        "colab": {
          "base_uri": "https://localhost:8080/"
        },
        "id": "LKhPBVEqnEoo",
        "outputId": "2b271a0a-6d64-4ea8-c87a-049019c9397b"
      },
      "source": [
        "from google.colab import drive\r\n",
        "drive.mount('/content/gdrive/')"
      ],
      "execution_count": 2,
      "outputs": [
        {
          "output_type": "stream",
          "text": [
            "Drive already mounted at /content/gdrive/; to attempt to forcibly remount, call drive.mount(\"/content/gdrive/\", force_remount=True).\n"
          ],
          "name": "stdout"
        }
      ]
    },
    {
      "cell_type": "code",
      "metadata": {
        "colab": {
          "base_uri": "https://localhost:8080/",
          "height": 200
        },
        "id": "NmShd59YlJpj",
        "outputId": "340f1d0f-b0a0-4052-d977-0d6bf3d696d6"
      },
      "source": [
        "df_price=pd.read_csv('/content/gdrive/MyDrive/Colab Notebooks/samsumg.csv')\r\n",
        "df_price.head()"
      ],
      "execution_count": 3,
      "outputs": [
        {
          "output_type": "execute_result",
          "data": {
            "text/html": [
              "<div>\n",
              "<style scoped>\n",
              "    .dataframe tbody tr th:only-of-type {\n",
              "        vertical-align: middle;\n",
              "    }\n",
              "\n",
              "    .dataframe tbody tr th {\n",
              "        vertical-align: top;\n",
              "    }\n",
              "\n",
              "    .dataframe thead th {\n",
              "        text-align: right;\n",
              "    }\n",
              "</style>\n",
              "<table border=\"1\" class=\"dataframe\">\n",
              "  <thead>\n",
              "    <tr style=\"text-align: right;\">\n",
              "      <th></th>\n",
              "      <th>Date</th>\n",
              "      <th>Open</th>\n",
              "      <th>High</th>\n",
              "      <th>Low</th>\n",
              "      <th>Close</th>\n",
              "      <th>Adj Close</th>\n",
              "      <th>Volume</th>\n",
              "    </tr>\n",
              "  </thead>\n",
              "  <tbody>\n",
              "    <tr>\n",
              "      <th>0</th>\n",
              "      <td>20160222</td>\n",
              "      <td>23800.0</td>\n",
              "      <td>23840.0</td>\n",
              "      <td>23320.0</td>\n",
              "      <td>23500.0</td>\n",
              "      <td>20433.65430</td>\n",
              "      <td>8744950.0</td>\n",
              "    </tr>\n",
              "    <tr>\n",
              "      <th>1</th>\n",
              "      <td>20160223</td>\n",
              "      <td>23580.0</td>\n",
              "      <td>23780.0</td>\n",
              "      <td>23460.0</td>\n",
              "      <td>23620.0</td>\n",
              "      <td>20537.99805</td>\n",
              "      <td>7383700.0</td>\n",
              "    </tr>\n",
              "    <tr>\n",
              "      <th>2</th>\n",
              "      <td>20160224</td>\n",
              "      <td>23560.0</td>\n",
              "      <td>23580.0</td>\n",
              "      <td>23220.0</td>\n",
              "      <td>23440.0</td>\n",
              "      <td>20381.48633</td>\n",
              "      <td>7024200.0</td>\n",
              "    </tr>\n",
              "    <tr>\n",
              "      <th>3</th>\n",
              "      <td>20160225</td>\n",
              "      <td>23440.0</td>\n",
              "      <td>23740.0</td>\n",
              "      <td>23440.0</td>\n",
              "      <td>23580.0</td>\n",
              "      <td>20503.21680</td>\n",
              "      <td>6681750.0</td>\n",
              "    </tr>\n",
              "    <tr>\n",
              "      <th>4</th>\n",
              "      <td>20160226</td>\n",
              "      <td>23600.0</td>\n",
              "      <td>23740.0</td>\n",
              "      <td>23440.0</td>\n",
              "      <td>23440.0</td>\n",
              "      <td>20381.48633</td>\n",
              "      <td>8867200.0</td>\n",
              "    </tr>\n",
              "  </tbody>\n",
              "</table>\n",
              "</div>"
            ],
            "text/plain": [
              "       Date     Open     High      Low    Close    Adj Close     Volume\n",
              "0  20160222  23800.0  23840.0  23320.0  23500.0  20433.65430  8744950.0\n",
              "1  20160223  23580.0  23780.0  23460.0  23620.0  20537.99805  7383700.0\n",
              "2  20160224  23560.0  23580.0  23220.0  23440.0  20381.48633  7024200.0\n",
              "3  20160225  23440.0  23740.0  23440.0  23580.0  20503.21680  6681750.0\n",
              "4  20160226  23600.0  23740.0  23440.0  23440.0  20381.48633  8867200.0"
            ]
          },
          "metadata": {
            "tags": []
          },
          "execution_count": 3
        }
      ]
    },
    {
      "cell_type": "markdown",
      "metadata": {
        "id": "owP4vehhn3Iv"
      },
      "source": [
        "일자, 시가, 고가, 저가, 거래량을 토대로 미래의 주가인 '종가'를 예측한다"
      ]
    },
    {
      "cell_type": "code",
      "metadata": {
        "id": "N9Er0Rc8nvQe"
      },
      "source": [
        "pd.to_datetime(df_price['Date'], format='%Y%m%d')\r\n",
        "\r\n",
        "df_price['Date'] = pd.to_datetime(df_price['Date'], format='%Y%m%d')\r\n",
        "df_price['year'] =df_price['Date'].dt.year\r\n",
        "df_price['month'] =df_price['Date'].dt.month\r\n",
        "df_price['date'] =df_price['Date'].dt.day"
      ],
      "execution_count": 4,
      "outputs": []
    },
    {
      "cell_type": "code",
      "metadata": {
        "colab": {
          "base_uri": "https://localhost:8080/",
          "height": 568
        },
        "id": "SdOl7HsAoX-L",
        "outputId": "6dbeea67-2590-46e6-daee-c24f3beaa28c"
      },
      "source": [
        "import matplotlib.pyplot as plt\r\n",
        "import seaborn as sns\r\n",
        "\r\n",
        "plt.figure(figsize=(16, 9))\r\n",
        "sns.lineplot(y=df_price['Adj Close'], x=df_price.index)\r\n",
        "plt.xlabel('time')\r\n",
        "plt.ylabel('price')"
      ],
      "execution_count": 5,
      "outputs": [
        {
          "output_type": "execute_result",
          "data": {
            "text/plain": [
              "Text(0, 0.5, 'price')"
            ]
          },
          "metadata": {
            "tags": []
          },
          "execution_count": 5
        },
        {
          "output_type": "display_data",
          "data": {
            "image/png": "[encoded data removed]",
            "text/plain": [
              "<Figure size 1152x648 with 1 Axes>"
            ]
          },
          "metadata": {
            "tags": [],
            "needs_background": "light"
          }
        }
      ]
    },
    {
      "cell_type": "markdown",
      "metadata": {
        "id": "rLBGz8FRqcON"
      },
      "source": [
        "##**Normalization**"
      ]
    },
    {
      "cell_type": "code",
      "metadata": {
        "colab": {
          "base_uri": "https://localhost:8080/"
        },
        "id": "ALZ8ZVHQqNAD",
        "outputId": "a554c061-4e93-44d3-dcef-ab3c80e12700"
      },
      "source": [
        "from sklearn.preprocessing import MinMaxScaler\r\n",
        "\r\n",
        "scaler = MinMaxScaler()\r\n",
        "scale_cols = ['Open', 'High', 'Low', 'Close', 'Volume']\r\n",
        "scaled = scaler.fit_transform(df_price[scale_cols])\r\n",
        "scaled"
      ],
      "execution_count": 6,
      "outputs": [
        {
          "output_type": "execute_result",
          "data": {
            "text/plain": [
              "array([[5.38438528e-03, 3.55094237e-03, 1.50875075e-03, 8.88099467e-04,\n",
              "        9.68366760e-02],\n",
              "       [2.09392761e-03, 2.73149413e-03, 3.62100181e-03, 2.66429840e-03,\n",
              "        8.17629563e-02],\n",
              "       [1.79479509e-03, 0.00000000e+00, 0.00000000e+00, 0.00000000e+00,\n",
              "        7.77820547e-02],\n",
              "       ...,\n",
              "       [9.04277595e-01, 8.27915870e-01, 9.01931201e-01, 8.84547069e-01,\n",
              "        2.02729598e-01],\n",
              "       [8.93807957e-01, 8.19721388e-01, 8.88352444e-01, 8.68265246e-01,\n",
              "        2.36170810e-01],\n",
              "       [8.80346994e-01, 8.08795411e-01, 8.71756186e-01, 8.75666075e-01,\n",
              "        2.86590351e-01]])"
            ]
          },
          "metadata": {
            "tags": []
          },
          "execution_count": 6
        }
      ]
    },
    {
      "cell_type": "code",
      "metadata": {
        "id": "V6K0-SzQq5JX"
      },
      "source": [
        "df = pd.DataFrame(scaled, columns=scale_cols)"
      ],
      "execution_count": 7,
      "outputs": []
    },
    {
      "cell_type": "markdown",
      "metadata": {
        "id": "jnRdqUAZq_zt"
      },
      "source": [
        "## **train/test split**"
      ]
    },
    {
      "cell_type": "code",
      "metadata": {
        "id": "70Ly9Bv2q_FF"
      },
      "source": [
        "from sklearn.model_selection import train_test_split"
      ],
      "execution_count": 8,
      "outputs": []
    },
    {
      "cell_type": "code",
      "metadata": {
        "id": "p2aPbXGtrFGo"
      },
      "source": [
        "x_train, x_test, y_train, y_test = train_test_split(df.drop('Close', 1), df['Close'], test_size=0.2, random_state=0, shuffle=False)"
      ],
      "execution_count": 9,
      "outputs": []
    },
    {
      "cell_type": "code",
      "metadata": {
        "colab": {
          "base_uri": "https://localhost:8080/"
        },
        "id": "Bv2IfMp9rJGE",
        "outputId": "a8c5b092-490f-448b-9341-2fae406f2b4e"
      },
      "source": [
        "print(x_train.shape, y_train.shape)\r\n",
        "print(x_test.shape, y_test.shape)"
      ],
      "execution_count": 10,
      "outputs": [
        {
          "output_type": "stream",
          "text": [
            "(980, 4) (980,)\n",
            "(246, 4) (246,)\n"
          ],
          "name": "stdout"
        }
      ]
    },
    {
      "cell_type": "code",
      "metadata": {
        "colab": {
          "base_uri": "https://localhost:8080/",
          "height": 411
        },
        "id": "P0lYtDk9rHwI",
        "outputId": "d7e9683c-7fe3-4807-d761-a37c2cafdb1f"
      },
      "source": [
        "x_train"
      ],
      "execution_count": 11,
      "outputs": [
        {
          "output_type": "execute_result",
          "data": {
            "text/html": [
              "<div>\n",
              "<style scoped>\n",
              "    .dataframe tbody tr th:only-of-type {\n",
              "        vertical-align: middle;\n",
              "    }\n",
              "\n",
              "    .dataframe tbody tr th {\n",
              "        vertical-align: top;\n",
              "    }\n",
              "\n",
              "    .dataframe thead th {\n",
              "        text-align: right;\n",
              "    }\n",
              "</style>\n",
              "<table border=\"1\" class=\"dataframe\">\n",
              "  <thead>\n",
              "    <tr style=\"text-align: right;\">\n",
              "      <th></th>\n",
              "      <th>Open</th>\n",
              "      <th>High</th>\n",
              "      <th>Low</th>\n",
              "      <th>Volume</th>\n",
              "    </tr>\n",
              "  </thead>\n",
              "  <tbody>\n",
              "    <tr>\n",
              "      <th>0</th>\n",
              "      <td>0.005384</td>\n",
              "      <td>0.003551</td>\n",
              "      <td>0.001509</td>\n",
              "      <td>0.096837</td>\n",
              "    </tr>\n",
              "    <tr>\n",
              "      <th>1</th>\n",
              "      <td>0.002094</td>\n",
              "      <td>0.002731</td>\n",
              "      <td>0.003621</td>\n",
              "      <td>0.081763</td>\n",
              "    </tr>\n",
              "    <tr>\n",
              "      <th>2</th>\n",
              "      <td>0.001795</td>\n",
              "      <td>0.000000</td>\n",
              "      <td>0.000000</td>\n",
              "      <td>0.077782</td>\n",
              "    </tr>\n",
              "    <tr>\n",
              "      <th>3</th>\n",
              "      <td>0.000000</td>\n",
              "      <td>0.002185</td>\n",
              "      <td>0.003319</td>\n",
              "      <td>0.073990</td>\n",
              "    </tr>\n",
              "    <tr>\n",
              "      <th>4</th>\n",
              "      <td>0.002393</td>\n",
              "      <td>0.002185</td>\n",
              "      <td>0.003319</td>\n",
              "      <td>0.098190</td>\n",
              "    </tr>\n",
              "    <tr>\n",
              "      <th>...</th>\n",
              "      <td>...</td>\n",
              "      <td>...</td>\n",
              "      <td>...</td>\n",
              "      <td>...</td>\n",
              "    </tr>\n",
              "    <tr>\n",
              "      <th>975</th>\n",
              "      <td>0.570745</td>\n",
              "      <td>0.524720</td>\n",
              "      <td>0.573024</td>\n",
              "      <td>0.096788</td>\n",
              "    </tr>\n",
              "    <tr>\n",
              "      <th>976</th>\n",
              "      <td>0.558780</td>\n",
              "      <td>0.509697</td>\n",
              "      <td>0.550392</td>\n",
              "      <td>0.184641</td>\n",
              "    </tr>\n",
              "    <tr>\n",
              "      <th>977</th>\n",
              "      <td>0.543823</td>\n",
              "      <td>0.502868</td>\n",
              "      <td>0.545866</td>\n",
              "      <td>0.143418</td>\n",
              "    </tr>\n",
              "    <tr>\n",
              "      <th>978</th>\n",
              "      <td>0.557284</td>\n",
              "      <td>0.515160</td>\n",
              "      <td>0.548884</td>\n",
              "      <td>0.161583</td>\n",
              "    </tr>\n",
              "    <tr>\n",
              "      <th>979</th>\n",
              "      <td>0.528866</td>\n",
              "      <td>0.494674</td>\n",
              "      <td>0.532287</td>\n",
              "      <td>0.152563</td>\n",
              "    </tr>\n",
              "  </tbody>\n",
              "</table>\n",
              "<p>980 rows × 4 columns</p>\n",
              "</div>"
            ],
            "text/plain": [
              "         Open      High       Low    Volume\n",
              "0    0.005384  0.003551  0.001509  0.096837\n",
              "1    0.002094  0.002731  0.003621  0.081763\n",
              "2    0.001795  0.000000  0.000000  0.077782\n",
              "3    0.000000  0.002185  0.003319  0.073990\n",
              "4    0.002393  0.002185  0.003319  0.098190\n",
              "..        ...       ...       ...       ...\n",
              "975  0.570745  0.524720  0.573024  0.096788\n",
              "976  0.558780  0.509697  0.550392  0.184641\n",
              "977  0.543823  0.502868  0.545866  0.143418\n",
              "978  0.557284  0.515160  0.548884  0.161583\n",
              "979  0.528866  0.494674  0.532287  0.152563\n",
              "\n",
              "[980 rows x 4 columns]"
            ]
          },
          "metadata": {
            "tags": []
          },
          "execution_count": 11
        }
      ]
    },
    {
      "cell_type": "markdown",
      "metadata": {
        "id": "HOf4RTGFrVxr"
      },
      "source": [
        "##**sequence dataset 구성**"
      ]
    },
    {
      "cell_type": "code",
      "metadata": {
        "id": "3tCeh-INrTw1"
      },
      "source": [
        "def windowed_dataset(series, window_size, batch_size, shuffle):\r\n",
        "    series = tf.expand_dims(series, axis=-1)\r\n",
        "    ds = tf.data.Dataset.from_tensor_slices(series)\r\n",
        "    ds = ds.window(window_size + 1, shift=1, drop_remainder=True)\r\n",
        "    ds = ds.flat_map(lambda w: w.batch(window_size + 1))\r\n",
        "    if shuffle:\r\n",
        "        ds = ds.shuffle(1000)\r\n",
        "    ds = ds.map(lambda w: (w[:-1], w[-3]))\r\n",
        "    return ds.batch(batch_size).prefetch(1)"
      ],
      "execution_count": 45,
      "outputs": []
    },
    {
      "cell_type": "code",
      "metadata": {
        "id": "TXK4z-8Grjvl"
      },
      "source": [
        "WINDOW_SIZE=20\r\n",
        "BATCH_SIZE=32"
      ],
      "execution_count": 46,
      "outputs": []
    },
    {
      "cell_type": "code",
      "metadata": {
        "id": "o9Cl9qoqrlmr"
      },
      "source": [
        "train_data = windowed_dataset(y_train, WINDOW_SIZE, BATCH_SIZE, True)\r\n",
        "test_data = windowed_dataset(y_test, WINDOW_SIZE, BATCH_SIZE, False)"
      ],
      "execution_count": 47,
      "outputs": []
    },
    {
      "cell_type": "markdown",
      "metadata": {
        "id": "1TyOkfEbr7I5"
      },
      "source": [
        "##**Model**"
      ]
    },
    {
      "cell_type": "code",
      "metadata": {
        "id": "tBWIt7z8rm15"
      },
      "source": [
        "from tensorflow.keras.models import Sequential\r\n",
        "from tensorflow.keras.layers import Dense, LSTM, Conv1D, Lambda\r\n",
        "from tensorflow.keras.losses import Huber\r\n",
        "from tensorflow.keras.optimizers import Adam\r\n",
        "from tensorflow.keras.callbacks import EarlyStopping, ModelCheckpoint\r\n",
        "\r\n",
        "\r\n",
        "model = Sequential([\r\n",
        "    # 1차원 feature map 생성\r\n",
        "    Conv1D(filters=32, kernel_size=5,\r\n",
        "           padding=\"causal\",\r\n",
        "           activation=\"relu\",\r\n",
        "           input_shape=[WINDOW_SIZE, 1]),\r\n",
        "    # LSTM\r\n",
        "    LSTM(16, activation='tanh'),\r\n",
        "    Dense(16, activation=\"relu\"),\r\n",
        "    Dense(1),\r\n",
        "])"
      ],
      "execution_count": 48,
      "outputs": []
    },
    {
      "cell_type": "code",
      "metadata": {
        "id": "0WeZSuWIrswH"
      },
      "source": [
        "# Sequence 학습에 비교적 좋은 퍼포먼스를 내는 Huber() 사용\r\n",
        "loss = Huber()\r\n",
        "optimizer = Adam(0.001)\r\n",
        "model.compile(loss=Huber(), optimizer=optimizer, metrics=['mse'])"
      ],
      "execution_count": 62,
      "outputs": []
    },
    {
      "cell_type": "code",
      "metadata": {
        "id": "95R6oblBsIFx"
      },
      "source": [
        "import os\r\n",
        "# 10번 동안 val_loss 개선이 없으면 학습 stop\r\n",
        "earlystopping = EarlyStopping(monitor='val_loss', patience=10)\r\n",
        "# val_loss 기준 체크포인터\r\n",
        "filename = os.path.join('tmp', 'ckeckpointer.ckpt')\r\n",
        "checkpoint = ModelCheckpoint(filename, \r\n",
        "                             save_weights_only=True, \r\n",
        "                             save_best_only=True, \r\n",
        "                             monitor='val_loss', \r\n",
        "                             verbose=1)"
      ],
      "execution_count": 63,
      "outputs": []
    },
    {
      "cell_type": "code",
      "metadata": {
        "colab": {
          "base_uri": "https://localhost:8080/"
        },
        "id": "ro02Y07ysQ4u",
        "outputId": "882af0e1-e8c1-47a9-c10b-ac5e79137b48"
      },
      "source": [
        "history = model.fit(train_data, \r\n",
        "                    validation_data=(test_data), \r\n",
        "                    epochs=10, \r\n",
        "                    #callbacks=[checkpoint, earlystopping])\r\n",
        " )"
      ],
      "execution_count": 64,
      "outputs": [
        {
          "output_type": "stream",
          "text": [
            "Epoch 1/10\n",
            "30/30 [==============================] - 3s 27ms/step - loss: nan - mse: nan - val_loss: nan - val_mse: nan\n",
            "Epoch 2/10\n",
            "30/30 [==============================] - 1s 14ms/step - loss: nan - mse: nan - val_loss: nan - val_mse: nan\n",
            "Epoch 3/10\n",
            "30/30 [==============================] - 1s 14ms/step - loss: nan - mse: nan - val_loss: nan - val_mse: nan\n",
            "Epoch 4/10\n",
            "30/30 [==============================] - 1s 15ms/step - loss: nan - mse: nan - val_loss: nan - val_mse: nan\n",
            "Epoch 5/10\n",
            "30/30 [==============================] - 1s 14ms/step - loss: nan - mse: nan - val_loss: nan - val_mse: nan\n",
            "Epoch 6/10\n",
            "30/30 [==============================] - 1s 14ms/step - loss: nan - mse: nan - val_loss: nan - val_mse: nan\n",
            "Epoch 7/10\n",
            "30/30 [==============================] - 1s 15ms/step - loss: nan - mse: nan - val_loss: nan - val_mse: nan\n",
            "Epoch 8/10\n",
            "30/30 [==============================] - 1s 14ms/step - loss: nan - mse: nan - val_loss: nan - val_mse: nan\n",
            "Epoch 9/10\n",
            "30/30 [==============================] - 1s 14ms/step - loss: nan - mse: nan - val_loss: nan - val_mse: nan\n",
            "Epoch 10/10\n",
            "30/30 [==============================] - 1s 15ms/step - loss: nan - mse: nan - val_loss: nan - val_mse: nan\n"
          ],
          "name": "stdout"
        }
      ]
    },
    {
      "cell_type": "code",
      "metadata": {
        "colab": {
          "base_uri": "https://localhost:8080/"
        },
        "id": "wp0gxjTFsY3G",
        "outputId": "f0515956-96ba-4c85-b349-2e40d437a9de"
      },
      "source": [
        "model.load_weights(filename)"
      ],
      "execution_count": 52,
      "outputs": [
        {
          "output_type": "execute_result",
          "data": {
            "text/plain": [
              "<tensorflow.python.training.tracking.util.CheckpointLoadStatus at 0x7f08dd82a8d0>"
            ]
          },
          "metadata": {
            "tags": []
          },
          "execution_count": 52
        }
      ]
    },
    {
      "cell_type": "code",
      "metadata": {
        "colab": {
          "base_uri": "https://localhost:8080/"
        },
        "id": "VVLqbFKGshlB",
        "outputId": "8013abeb-bd93-484d-9351-eb6df992fe68"
      },
      "source": [
        "pred = model.predict(test_data)\r\n",
        "pred.shape"
      ],
      "execution_count": 53,
      "outputs": [
        {
          "output_type": "execute_result",
          "data": {
            "text/plain": [
              "(226, 1)"
            ]
          },
          "metadata": {
            "tags": []
          },
          "execution_count": 53
        }
      ]
    },
    {
      "cell_type": "code",
      "metadata": {
        "colab": {
          "base_uri": "https://localhost:8080/",
          "height": 537
        },
        "id": "QO89MOe9xM1a",
        "outputId": "1d1aff11-54f1-4162-a652-dd84e540abca"
      },
      "source": [
        "plt.figure(figsize=(12, 9))\r\n",
        "plt.plot(np.asarray(y_test)[20:], label='actual')\r\n",
        "plt.plot(pred, label='prediction')\r\n",
        "plt.legend()\r\n",
        "plt.show()"
      ],
      "execution_count": 61,
      "outputs": [
        {
          "output_type": "display_data",
          "data": {
            "image/png": "[encoded data removed]",
            "text/plain": [
              "<Figure size 864x648 with 1 Axes>"
            ]
          },
          "metadata": {
            "tags": [],
            "needs_background": "light"
          }
        }
      ]
    },
    {
      "cell_type": "code",
      "metadata": {
        "id": "OIgTjxQ3ssjn"
      },
      "source": [
        ""
      ],
      "execution_count": 22,
      "outputs": []
    }
  ]
}