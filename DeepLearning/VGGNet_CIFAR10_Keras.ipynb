{
  "nbformat": 4,
  "nbformat_minor": 0,
  "metadata": {
    "accelerator": "GPU",
    "colab": {
      "name": "VGGNet_CIFAR10_Keras.ipynb",
      "provenance": [],
      "collapsed_sections": []
    },
    "kernelspec": {
      "display_name": "Python 3",
      "name": "python3"
    }
  },
  "cells": [
    {
      "cell_type": "code",
      "metadata": {
        "id": "G1FWR6SKVlw6",
        "colab": {
          "base_uri": "https://localhost:8080/",
          "height": 36
        },
        "outputId": "bbce9e78-b16e-419b-8eca-31f8bdce0a06"
      },
      "source": [
        "import tensorflow as tf\r\n",
        "tf.__version__"
      ],
      "execution_count": 8,
      "outputs": [
        {
          "output_type": "execute_result",
          "data": {
            "application/vnd.google.colaboratory.intrinsic+json": {
              "type": "string"
            },
            "text/plain": [
              "'2.4.1'"
            ]
          },
          "metadata": {
            "tags": []
          },
          "execution_count": 8
        }
      ]
    },
    {
      "cell_type": "markdown",
      "metadata": {
        "id": "3eP60yokWpKD"
      },
      "source": [
        "# **VGG**\r\n",
        "VGG 논문에서 활용한 이미지의 크기 : 224* 224 * 3  \r\n"
      ]
    },
    {
      "cell_type": "markdown",
      "metadata": {
        "id": "TRsGH9rkaQD5"
      },
      "source": [
        "### **CIFAR-10**\r\n",
        "dataset : consist of 32*32 colour images in 10 classes, with 6000 images per class. 50000 training images & 10000 test images."
      ]
    },
    {
      "cell_type": "code",
      "metadata": {
        "id": "dKhRqKchVpyd",
        "colab": {
          "base_uri": "https://localhost:8080/"
        },
        "outputId": "9d6256cc-0aa7-4d2d-bf1a-eb49b0db100a"
      },
      "source": [
        "(x_train, y_train), (x_test, y_test) = tf.keras.datasets.cifar10.load_data()\r\n",
        "x_train, x_test = x_train/255, x_test/255"
      ],
      "execution_count": 2,
      "outputs": [
        {
          "output_type": "stream",
          "text": [
            "Downloading data from https://www.cs.toronto.edu/~kriz/cifar-10-python.tar.gz\n",
            "170500096/170498071 [==============================] - 11s 0us/step\n"
          ],
          "name": "stdout"
        }
      ]
    },
    {
      "cell_type": "code",
      "metadata": {
        "colab": {
          "base_uri": "https://localhost:8080/"
        },
        "id": "uoJRISbLahIq",
        "outputId": "bd8c6992-4cac-41cb-f927-c44319627082"
      },
      "source": [
        "print(x_train.shape)\r\n",
        "print(y_train.shape)"
      ],
      "execution_count": 3,
      "outputs": [
        {
          "output_type": "stream",
          "text": [
            "(50000, 32, 32, 3)\n",
            "(50000, 1)\n"
          ],
          "name": "stdout"
        }
      ]
    },
    {
      "cell_type": "code",
      "metadata": {
        "colab": {
          "base_uri": "https://localhost:8080/"
        },
        "id": "s3TCUWsw6-Sc",
        "outputId": "bd67a831-3a7b-4f00-e469-92242cd4b970"
      },
      "source": [
        "y_train[:10]"
      ],
      "execution_count": 4,
      "outputs": [
        {
          "output_type": "execute_result",
          "data": {
            "text/plain": [
              "array([[6],\n",
              "       [9],\n",
              "       [9],\n",
              "       [4],\n",
              "       [1],\n",
              "       [1],\n",
              "       [2],\n",
              "       [7],\n",
              "       [8],\n",
              "       [3]], dtype=uint8)"
            ]
          },
          "metadata": {
            "tags": []
          },
          "execution_count": 4
        }
      ]
    },
    {
      "cell_type": "code",
      "metadata": {
        "id": "0HqWPSyYaryo"
      },
      "source": [
        "from tensorflow import  keras\r\n",
        "from tensorflow.keras import layers\r\n",
        "from keras.layers import Input, Conv2D, MaxPooling2D, Dense, Flatten, Add, Activation\r\n",
        "from keras.models import Model, Sequential"
      ],
      "execution_count": 5,
      "outputs": []
    },
    {
      "cell_type": "code",
      "metadata": {
        "colab": {
          "base_uri": "https://localhost:8080/"
        },
        "id": "ARFJSkSc3ffI",
        "outputId": "f21a6f8c-1cf3-4c61-f1e1-199b8d63e86a"
      },
      "source": [
        "input_shape = (32,32,3)\r\n",
        "\r\n",
        "vgg = Sequential()\r\n",
        "vgg.add(Conv2D(64, 3, padding=\"same\", activation='relu', input_shape=input_shape))\r\n",
        "vgg.add(Conv2D(64, 3, padding=\"same\", activation='relu'))\r\n",
        "vgg.add(MaxPooling2D(strides=(2,2)))\r\n",
        "vgg.add(Conv2D(128, 3, padding=\"same\", activation='relu'))\r\n",
        "vgg.add(Conv2D(128, 3, padding=\"same\", activation='relu'))\r\n",
        "vgg.add(MaxPooling2D(strides=(2,2)))\r\n",
        "vgg.add(Conv2D(256, 3, padding=\"same\", activation='relu'))\r\n",
        "vgg.add(Conv2D(256, 3, padding=\"same\", activation='relu'))\r\n",
        "vgg.add(Flatten())\r\n",
        "vgg.add(Dense(256, activation='relu'))\r\n",
        "vgg.add(Dense(256, activation='relu'))\r\n",
        "vgg.add(Dense(10, activation='softmax'))\r\n",
        "\r\n",
        "vgg.summary()"
      ],
      "execution_count": 6,
      "outputs": [
        {
          "output_type": "stream",
          "text": [
            "Model: \"sequential\"\n",
            "_________________________________________________________________\n",
            "Layer (type)                 Output Shape              Param #   \n",
            "=================================================================\n",
            "conv2d (Conv2D)              (None, 32, 32, 64)        1792      \n",
            "_________________________________________________________________\n",
            "conv2d_1 (Conv2D)            (None, 32, 32, 64)        36928     \n",
            "_________________________________________________________________\n",
            "max_pooling2d (MaxPooling2D) (None, 16, 16, 64)        0         \n",
            "_________________________________________________________________\n",
            "conv2d_2 (Conv2D)            (None, 16, 16, 128)       73856     \n",
            "_________________________________________________________________\n",
            "conv2d_3 (Conv2D)            (None, 16, 16, 128)       147584    \n",
            "_________________________________________________________________\n",
            "max_pooling2d_1 (MaxPooling2 (None, 8, 8, 128)         0         \n",
            "_________________________________________________________________\n",
            "conv2d_4 (Conv2D)            (None, 8, 8, 256)         295168    \n",
            "_________________________________________________________________\n",
            "conv2d_5 (Conv2D)            (None, 8, 8, 256)         590080    \n",
            "_________________________________________________________________\n",
            "flatten (Flatten)            (None, 16384)             0         \n",
            "_________________________________________________________________\n",
            "dense (Dense)                (None, 256)               4194560   \n",
            "_________________________________________________________________\n",
            "dense_1 (Dense)              (None, 256)               65792     \n",
            "_________________________________________________________________\n",
            "dense_2 (Dense)              (None, 10)                2570      \n",
            "=================================================================\n",
            "Total params: 5,408,330\n",
            "Trainable params: 5,408,330\n",
            "Non-trainable params: 0\n",
            "_________________________________________________________________\n"
          ],
          "name": "stdout"
        }
      ]
    },
    {
      "cell_type": "code",
      "metadata": {
        "colab": {
          "base_uri": "https://localhost:8080/"
        },
        "id": "DHJstVkNwrdq",
        "outputId": "4be4c494-cddf-496e-a769-20f9fc0abae1"
      },
      "source": [
        "from keras.optimizers import Adam\r\n",
        "\r\n",
        "vgg.compile(optimizer=tf.keras.optimizers.Adam(), loss='sparse_categorical_crossentropy', metrics=[tf.keras.metrics.SparseCategoricalAccuracy()])\r\n",
        "\r\n",
        "vgg.fit(x_train, y_train, epochs=7)\r\n",
        "vgg.evaluate(x_test, y_test, verbose=2)"
      ],
      "execution_count": 7,
      "outputs": [
        {
          "output_type": "stream",
          "text": [
            "Epoch 1/7\n",
            "1563/1563 [==============================] - 63s 21ms/step - loss: 1.8853 - sparse_categorical_accuracy: 0.2904\n",
            "Epoch 2/7\n",
            "1563/1563 [==============================] - 33s 21ms/step - loss: 1.1343 - sparse_categorical_accuracy: 0.5951\n",
            "Epoch 3/7\n",
            "1563/1563 [==============================] - 33s 21ms/step - loss: 0.8725 - sparse_categorical_accuracy: 0.6918\n",
            "Epoch 4/7\n",
            "1563/1563 [==============================] - 33s 21ms/step - loss: 0.7126 - sparse_categorical_accuracy: 0.7515\n",
            "Epoch 5/7\n",
            "1563/1563 [==============================] - 33s 21ms/step - loss: 0.5754 - sparse_categorical_accuracy: 0.7948\n",
            "Epoch 6/7\n",
            "1563/1563 [==============================] - 33s 21ms/step - loss: 0.4790 - sparse_categorical_accuracy: 0.8313\n",
            "Epoch 7/7\n",
            "1563/1563 [==============================] - 33s 21ms/step - loss: 0.3951 - sparse_categorical_accuracy: 0.8630\n",
            "313/313 - 2s - loss: 0.8766 - sparse_categorical_accuracy: 0.7301\n"
          ],
          "name": "stdout"
        },
        {
          "output_type": "execute_result",
          "data": {
            "text/plain": [
              "[0.8766021728515625, 0.7300999760627747]"
            ]
          },
          "metadata": {
            "tags": []
          },
          "execution_count": 7
        }
      ]
    }
  ]
}