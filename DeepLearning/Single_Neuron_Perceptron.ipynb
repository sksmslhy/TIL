{
  "nbformat": 4,
  "nbformat_minor": 0,
  "metadata": {
    "colab": {
      "name": "Single_Neuron_Perceptron.ipynb",
      "provenance": []
    },
    "kernelspec": {
      "name": "python3",
      "display_name": "Python 3"
    },
    "accelerator": "GPU"
  },
  "cells": [
    {
      "cell_type": "markdown",
      "metadata": {
        "id": "XFRubfgOeRmA"
      },
      "source": [
        "# **Single Neuron Perceptron**\r\n"
      ]
    },
    {
      "cell_type": "markdown",
      "metadata": {
        "id": "k2vh2A4v1rLF"
      },
      "source": [
        "Neural Network is a set of layers, and layers are set of neurons.\r\n",
        "\r\n",
        " The basic model of DL, Multi Layer Perceptron(MLP), woks as below :"
      ]
    },
    {
      "cell_type": "markdown",
      "metadata": {
        "id": "IuHwi2u03zIM"
      },
      "source": [
        "<p align=\"center\"><img src=\"https://camo.githubusercontent.com/f2e56d9613ce74a7d64a8aac405dff1c3119de67/68747470733a2f2f7777772e7269746368696576696e6b2e636f6d2f696d672f706f73742d392d6d6c702f6e6e5f6469616772616d5f312e706e67\" height=\"500\"></p>"
      ]
    },
    {
      "cell_type": "markdown",
      "metadata": {
        "id": "D0ArrzYp36DR"
      },
      "source": [
        "Neuron(node, perceptron) woks as below :\r\n",
        "\r\n",
        "<p align=\"center\"><img src=\"https://static.javatpoint.com/tutorial/tensorflow/images/single-layer-perceptron-in-tensorflow2.png\" height=\"350\"></p>"
      ]
    },
    {
      "cell_type": "markdown",
      "metadata": {
        "id": "9EgklXZx4dAa"
      },
      "source": [
        "There are various activation functions used by many type of deep learnings. Traditionally, Single Neuron Perceptron used step function as an activation function.\r\n",
        "\r\n",
        "Single Perceptrons can solve AND and OR operations, but XOR operations cannot. XOR operation can be solved by MLP.\r\n",
        "\r\n",
        "\r\n",
        "<p align=\"center\"><img src=\"https://i.stack.imgur.com/D8ByS.png\" height=\"600\"></p>"
      ]
    },
    {
      "cell_type": "code",
      "metadata": {
        "id": "VAoJ7Ge27rR3"
      },
      "source": [
        ""
      ],
      "execution_count": null,
      "outputs": []
    },
    {
      "cell_type": "markdown",
      "metadata": {
        "id": "FA8ktEkH7sFv"
      },
      "source": [
        "---\r\n",
        "# **Implementation with Tensorflow**"
      ]
    },
    {
      "cell_type": "code",
      "metadata": {
        "id": "quswMfny7zVO",
        "outputId": "21026e14-272c-4bb4-bf62-3921aa253a25",
        "colab": {
          "base_uri": "https://localhost:8080/",
          "height": 35
        }
      },
      "source": [
        "import tensorflow as tf\r\n",
        "tf.__version__"
      ],
      "execution_count": 29,
      "outputs": [
        {
          "output_type": "execute_result",
          "data": {
            "application/vnd.google.colaboratory.intrinsic+json": {
              "type": "string"
            },
            "text/plain": [
              "'2.4.1'"
            ]
          },
          "metadata": {
            "tags": []
          },
          "execution_count": 29
        }
      ]
    },
    {
      "cell_type": "markdown",
      "metadata": {
        "id": "7jf6IZlZelsZ"
      },
      "source": [
        "### **Define Constants**\r\n",
        "\r\n",
        "practice perceptron with AND, OR, XOR operation.\r\n",
        "\r\n",
        "Define bias and constants for truth tables."
      ]
    },
    {
      "cell_type": "code",
      "metadata": {
        "id": "JeSfAyhp71SO"
      },
      "source": [
        "T = 1.0\r\n",
        "F = 0\r\n",
        "bias = 1.0"
      ],
      "execution_count": null,
      "outputs": []
    },
    {
      "cell_type": "markdown",
      "metadata": {
        "id": "2jJR0Hlm_9c6"
      },
      "source": [
        "<p align=\"center\"><img src=\"https://introcs.cs.princeton.edu/java/71boolean/images/truth-table.png\" height=\"250\"></p>\r\n"
      ]
    },
    {
      "cell_type": "code",
      "metadata": {
        "id": "Q51QtTg38MrQ"
      },
      "source": [
        "def AND_Data():\r\n",
        "  X = [\r\n",
        "       [F, F, bias],\r\n",
        "       [F, T, bias],\r\n",
        "       [T, F, bias],\r\n",
        "       [T, T, bias]\r\n",
        "  ]\r\n",
        "  Y = [\r\n",
        "       [F],\r\n",
        "       [F],\r\n",
        "       [F],\r\n",
        "       [T]\r\n",
        "  ]\r\n",
        "\r\n",
        "  return X, Y\r\n",
        "\r\n",
        "def OR_Data():\r\n",
        "  X = [\r\n",
        "       [F, F, bias],\r\n",
        "       [F, T, bias],\r\n",
        "       [T, F, bias],\r\n",
        "       [T, T, bias]\r\n",
        "  ]\r\n",
        "  Y = [\r\n",
        "       [F],\r\n",
        "       [T],\r\n",
        "       [T],\r\n",
        "       [T]\r\n",
        "  ]\r\n",
        "\r\n",
        "  return X, Y\r\n",
        "\r\n",
        "def XOR_Data():\r\n",
        "  X = [\r\n",
        "       [F, F, bias],\r\n",
        "       [F, T, bias],\r\n",
        "       [T, F, bias],\r\n",
        "       [T, T, bias]\r\n",
        "  ]\r\n",
        "  Y = [\r\n",
        "       [F],\r\n",
        "       [T],\r\n",
        "       [T],\r\n",
        "       [F]\r\n",
        "  ]\r\n",
        "\r\n",
        "  return X, Y"
      ],
      "execution_count": null,
      "outputs": []
    },
    {
      "cell_type": "markdown",
      "metadata": {
        "id": "8xfJjWlSBHHF"
      },
      "source": [
        "Select Data"
      ]
    },
    {
      "cell_type": "code",
      "metadata": {
        "id": "sOgw89j19WMn"
      },
      "source": [
        "X, Y = AND_Data() # 분류 가능\r\n",
        "# X, Y = OR_Data() # 분류 가능\r\n",
        "# X, Y = XOR_Data() # 분류 불가"
      ],
      "execution_count": null,
      "outputs": []
    },
    {
      "cell_type": "markdown",
      "metadata": {
        "id": "cpjkLwBkBQH4"
      },
      "source": [
        "### **Initialize**\r\n",
        "\r\n",
        "Initialize weight variable with random value.\r\n"
      ]
    },
    {
      "cell_type": "code",
      "metadata": {
        "id": "mkhlISZ79x9r"
      },
      "source": [
        "# X multiplied by W. Since X consists of X1, X2, and bias, specify [3,1]\r\n",
        "\r\n",
        "W = tf.Variable(tf.random.normal([3, 1]))"
      ],
      "execution_count": null,
      "outputs": []
    },
    {
      "cell_type": "markdown",
      "metadata": {
        "id": "xr6WshI4CLEE"
      },
      "source": [
        "### **Activation Function**\r\n",
        "\r\n",
        "Using step func.\r\n",
        "\r\n",
        "step(x) = {1 if x > 0; 0 otherwise}"
      ]
    },
    {
      "cell_type": "code",
      "metadata": {
        "id": "DDSOm0OX_QdA"
      },
      "source": [
        "def step(x):\r\n",
        "  return tf.cast(tf.greater(x, 0), tf.float32) # x가 0보다 클 때는 true를 반환해 float으로 변환(1.0)"
      ],
      "execution_count": null,
      "outputs": []
    },
    {
      "cell_type": "markdown",
      "metadata": {
        "id": "CBz8FUM4Cgbd"
      },
      "source": [
        "### **Loss Function**\r\n",
        "\r\n",
        "Using MSE(Mean Square Error) as loss func."
      ]
    },
    {
      "cell_type": "code",
      "metadata": {
        "colab": {
          "base_uri": "https://localhost:8080/"
        },
        "id": "-QaHrnl5P5_3",
        "outputId": "348752e2-08cc-43f8-bcf4-a8b8b4ee78fd"
      },
      "source": [
        "f = tf.matmul(X, W) # X*W\r\n",
        "output = step(f)\r\n",
        "error = tf.subtract(Y, output) # Y - output\r\n",
        "mse = tf.reduce_mean(tf.square(error)) # error를 제곱하고 평균낸다\r\n",
        "print(mse)"
      ],
      "execution_count": null,
      "outputs": [
        {
          "output_type": "stream",
          "text": [
            "Tensor(\"Mean_2:0\", shape=(), dtype=float32)\n"
          ],
          "name": "stdout"
        }
      ]
    },
    {
      "cell_type": "markdown",
      "metadata": {
        "id": "1dkM0jOOSdQp"
      },
      "source": [
        "### **Optimize Weights**\r\n",
        "\r\n",
        "Step func has 0 gradient or divergence, gradient descent is not abailable.\r\n",
        "\r\n",
        "Instead, Single Perceptron should be optimized in the below method.\r\n",
        "\r\n",
        "\r\n",
        "* if target == 1 and activation == 0:\r\n",
        "    \r\n",
        "    w_new = w_old + input\r\n",
        "\r\n",
        "* if target == 0 and activation == 1:\r\n",
        "\r\n",
        "    w_new = w_old - input"
      ]
    },
    {
      "cell_type": "code",
      "metadata": {
        "id": "hd4Xx7D_RKe3"
      },
      "source": [
        "delta = tf.matmul(X, error, transpose_a=True)\r\n",
        "train = W.assign(tf.add(W, delta))"
      ],
      "execution_count": null,
      "outputs": []
    },
    {
      "cell_type": "markdown",
      "metadata": {
        "id": "2vTGclidTz0o"
      },
      "source": [
        "### **Training & Test**"
      ]
    },
    {
      "cell_type": "code",
      "metadata": {
        "colab": {
          "base_uri": "https://localhost:8080/"
        },
        "id": "J0JfEHc7jN2x",
        "outputId": "81de2cb9-7a8e-42f5-d23c-ec24bbcdecd2"
      },
      "source": [
        "tf.compat.v1.disable_v2_behavior() # 텐서플로우 2.X 버전에서는 eager 실행이 활성화되어 있으므로 수동으로 비활성화 한다\r\n",
        "init = tf.compat.v1.global_variables_initializer()\r\n",
        "\r\n",
        "with tf.compat.v1.Session() as sess:  \r\n",
        "  sess.run(init)\r\n",
        "  err = 1\r\n",
        "  epoch, max_epochs = 0, 20\r\n",
        "  while err > 0.0 and epoch < max_epochs:\r\n",
        "      epoch += 1\r\n",
        "      err = sess.run(mse)\r\n",
        "      sess.run(train)\r\n",
        "      print('epoch:', epoch, 'mse:', err)\r\n",
        "      \r\n",
        "  print(\"\\nResult:\")\r\n",
        "  print(sess.run([output]))"
      ],
      "execution_count": null,
      "outputs": [
        {
          "output_type": "stream",
          "text": [
            "epoch: 1 mse: 0.75\n",
            "epoch: 2 mse: 0.25\n",
            "epoch: 3 mse: 0.0\n",
            "\n",
            "Result:\n",
            "[array([[0.],\n",
            "       [0.],\n",
            "       [0.],\n",
            "       [1.]], dtype=float32)]\n"
          ],
          "name": "stdout"
        }
      ]
    },
    {
      "cell_type": "markdown",
      "metadata": {
        "id": "6-vfcIy8IxEr"
      },
      "source": [
        "---\r\n",
        "## **Single Perceptron only works on Linearly Separable Classification**\r\n",
        "\r\n",
        "One perceptron is one decision boundary, so it only solve linearly separable problem.\r\n",
        "\r\n",
        "MLP with two neurons in hidden layer can solve XOR. \r\n",
        "\r\n",
        "Two neurons in hidden layer will draw two boundary lines.\r\n",
        "\r\n",
        "<p align=\"center\"><img src=\"https://camo.githubusercontent.com/d6c01b2c873b27269dfc54b674082c6d2586f7c9/68747470733a2f2f7170682e66732e71756f726163646e2e6e65742f6d61696e2d71696d672d6136633535376166343238306431663835636163633636653034386538326633\" height=\"220\"></p>\r\n"
      ]
    }
  ]
}