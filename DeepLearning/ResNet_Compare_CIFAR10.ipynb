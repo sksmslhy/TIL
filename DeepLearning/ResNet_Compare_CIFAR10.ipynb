{
  "nbformat": 4,
  "nbformat_minor": 0,
  "metadata": {
    "accelerator": "GPU",
    "colab": {
      "name": "ResNet_Compare_CIFAR10.ipynb",
      "provenance": [],
      "collapsed_sections": []
    },
    "kernelspec": {
      "display_name": "Python 3",
      "name": "python3"
    }
  },
  "cells": [
    {
      "cell_type": "code",
      "metadata": {
        "id": "G1FWR6SKVlw6"
      },
      "source": [
        "import tensorflow as tf"
      ],
      "execution_count": 1,
      "outputs": []
    },
    {
      "cell_type": "code",
      "metadata": {
        "id": "dKhRqKchVpyd",
        "colab": {
          "base_uri": "https://localhost:8080/"
        },
        "outputId": "6c0afcb1-ee6f-4e73-a21a-ce62d560a1b3"
      },
      "source": [
        "(x_train, y_train), (x_test, y_test) = tf.keras.datasets.cifar10.load_data()\r\n",
        "x_train, x_test = x_train/255, x_test/255"
      ],
      "execution_count": 2,
      "outputs": [
        {
          "output_type": "stream",
          "text": [
            "Downloading data from https://www.cs.toronto.edu/~kriz/cifar-10-python.tar.gz\n",
            "170500096/170498071 [==============================] - 6s 0us/step\n"
          ],
          "name": "stdout"
        }
      ]
    },
    {
      "cell_type": "code",
      "metadata": {
        "colab": {
          "base_uri": "https://localhost:8080/"
        },
        "id": "uoJRISbLahIq",
        "outputId": "dc0ebbfd-9287-407b-aa1e-1ddff1437eff"
      },
      "source": [
        "print(x_train.shape)\r\n",
        "print(y_train.shape)"
      ],
      "execution_count": 3,
      "outputs": [
        {
          "output_type": "stream",
          "text": [
            "(50000, 32, 32, 3)\n",
            "(50000, 1)\n"
          ],
          "name": "stdout"
        }
      ]
    },
    {
      "cell_type": "code",
      "metadata": {
        "colab": {
          "base_uri": "https://localhost:8080/"
        },
        "id": "s3TCUWsw6-Sc",
        "outputId": "7a2894df-b91b-4a46-8f04-e23c8e00e57c"
      },
      "source": [
        "y_train[:10]"
      ],
      "execution_count": 4,
      "outputs": [
        {
          "output_type": "execute_result",
          "data": {
            "text/plain": [
              "array([[6],\n",
              "       [9],\n",
              "       [9],\n",
              "       [4],\n",
              "       [1],\n",
              "       [1],\n",
              "       [2],\n",
              "       [7],\n",
              "       [8],\n",
              "       [3]], dtype=uint8)"
            ]
          },
          "metadata": {
            "tags": []
          },
          "execution_count": 4
        }
      ]
    },
    {
      "cell_type": "code",
      "metadata": {
        "id": "0HqWPSyYaryo"
      },
      "source": [
        "from tensorflow import  keras\r\n",
        "from tensorflow.keras import layers\r\n",
        "from keras.layers import Input, Conv2D, MaxPooling2D, Dense, Flatten, Add, Activation\r\n",
        "from keras.models import Model, Sequential"
      ],
      "execution_count": 5,
      "outputs": []
    },
    {
      "cell_type": "markdown",
      "metadata": {
        "id": "fEBfiUXz91I6"
      },
      "source": [
        "# **Residual Connection**"
      ]
    },
    {
      "cell_type": "code",
      "metadata": {
        "colab": {
          "base_uri": "https://localhost:8080/"
        },
        "id": "16zk5QxW6sG-",
        "outputId": "215fba70-1f73-49c1-d42c-30a8b741f953"
      },
      "source": [
        "input_shape = (32,32,3)\r\n",
        "\r\n",
        "model = Sequential()\r\n",
        "model.add(Conv2D(128, 3, padding=\"same\", activation='relu', input_shape=input_shape))\r\n",
        "model.add(Conv2D(128, 3, padding=\"same\", activation='relu'))\r\n",
        "model.add(Conv2D(128, 3, padding=\"same\", activation='relu'))\r\n",
        "model.add(Conv2D(128, 3, padding=\"same\", activation='relu'))\r\n",
        "model.add(Conv2D(128, 3, padding=\"same\", activation='relu'))\r\n",
        "model.add(Conv2D(128, 3, padding=\"same\", activation='relu'))\r\n",
        "model.add(Conv2D(128, 3, padding=\"same\", activation='relu'))\r\n",
        "model.add(Conv2D(128, 3, padding=\"same\", activation='relu'))\r\n",
        "model.add(MaxPooling2D(strides=(2,2)))\r\n",
        "\r\n",
        "model.add(Flatten())\r\n",
        "model.add(Dense(128, activation='relu'))\r\n",
        "model.add(Dense(128, activation='relu'))\r\n",
        "model.add(Dense(10, activation='softmax'))\r\n",
        "\r\n",
        "model.summary()"
      ],
      "execution_count": 6,
      "outputs": [
        {
          "output_type": "stream",
          "text": [
            "Model: \"sequential\"\n",
            "_________________________________________________________________\n",
            "Layer (type)                 Output Shape              Param #   \n",
            "=================================================================\n",
            "conv2d (Conv2D)              (None, 32, 32, 128)       3584      \n",
            "_________________________________________________________________\n",
            "conv2d_1 (Conv2D)            (None, 32, 32, 128)       147584    \n",
            "_________________________________________________________________\n",
            "conv2d_2 (Conv2D)            (None, 32, 32, 128)       147584    \n",
            "_________________________________________________________________\n",
            "conv2d_3 (Conv2D)            (None, 32, 32, 128)       147584    \n",
            "_________________________________________________________________\n",
            "conv2d_4 (Conv2D)            (None, 32, 32, 128)       147584    \n",
            "_________________________________________________________________\n",
            "conv2d_5 (Conv2D)            (None, 32, 32, 128)       147584    \n",
            "_________________________________________________________________\n",
            "conv2d_6 (Conv2D)            (None, 32, 32, 128)       147584    \n",
            "_________________________________________________________________\n",
            "conv2d_7 (Conv2D)            (None, 32, 32, 128)       147584    \n",
            "_________________________________________________________________\n",
            "max_pooling2d (MaxPooling2D) (None, 16, 16, 128)       0         \n",
            "_________________________________________________________________\n",
            "flatten (Flatten)            (None, 32768)             0         \n",
            "_________________________________________________________________\n",
            "dense (Dense)                (None, 128)               4194432   \n",
            "_________________________________________________________________\n",
            "dense_1 (Dense)              (None, 128)               16512     \n",
            "_________________________________________________________________\n",
            "dense_2 (Dense)              (None, 10)                1290      \n",
            "=================================================================\n",
            "Total params: 5,248,906\n",
            "Trainable params: 5,248,906\n",
            "Non-trainable params: 0\n",
            "_________________________________________________________________\n"
          ],
          "name": "stdout"
        }
      ]
    },
    {
      "cell_type": "code",
      "metadata": {
        "colab": {
          "base_uri": "https://localhost:8080/"
        },
        "id": "QXQbKAIO_BeV",
        "outputId": "bcb2f373-d9b0-434f-c678-9c9616fb5a23"
      },
      "source": [
        "model.compile(optimizer=tf.keras.optimizers.Adam(), \r\n",
        "            loss='sparse_categorical_crossentropy', \r\n",
        "            metrics=[tf.keras.metrics.SparseCategoricalAccuracy()])\r\n",
        "\r\n",
        "model.fit(x_train, y_train, epochs=7)\r\n",
        "model.evaluate(x_test, y_test, verbose=2)"
      ],
      "execution_count": 7,
      "outputs": [
        {
          "output_type": "stream",
          "text": [
            "Epoch 1/7\n",
            "1563/1563 [==============================] - 133s 66ms/step - loss: 2.3024 - sparse_categorical_accuracy: 0.1004\n",
            "Epoch 2/7\n",
            "1563/1563 [==============================] - 102s 65ms/step - loss: 2.3027 - sparse_categorical_accuracy: 0.0986\n",
            "Epoch 3/7\n",
            "1563/1563 [==============================] - 102s 65ms/step - loss: 2.3027 - sparse_categorical_accuracy: 0.0992\n",
            "Epoch 4/7\n",
            "1563/1563 [==============================] - 102s 65ms/step - loss: 2.3028 - sparse_categorical_accuracy: 0.0978\n",
            "Epoch 5/7\n",
            "1563/1563 [==============================] - 102s 65ms/step - loss: 2.3026 - sparse_categorical_accuracy: 0.0987\n",
            "Epoch 6/7\n",
            "1563/1563 [==============================] - 103s 66ms/step - loss: 2.3028 - sparse_categorical_accuracy: 0.0983\n",
            "Epoch 7/7\n",
            "1563/1563 [==============================] - 103s 66ms/step - loss: 2.3028 - sparse_categorical_accuracy: 0.0995\n",
            "313/313 - 5s - loss: 2.3026 - sparse_categorical_accuracy: 0.1000\n"
          ],
          "name": "stdout"
        },
        {
          "output_type": "execute_result",
          "data": {
            "text/plain": [
              "[2.3026278018951416, 0.10000000149011612]"
            ]
          },
          "metadata": {
            "tags": []
          },
          "execution_count": 7
        }
      ]
    },
    {
      "cell_type": "markdown",
      "metadata": {
        "id": "DAYc9QURWvgA"
      },
      "source": [
        "## **Shortcut Connection**"
      ]
    },
    {
      "cell_type": "code",
      "metadata": {
        "colab": {
          "base_uri": "https://localhost:8080/"
        },
        "id": "h7uDSFeLQLjE",
        "outputId": "e3c62119-3336-48a4-b767-d6a46cb96685"
      },
      "source": [
        "inputs = keras.Input(shape=(32, 32, 3))\r\n",
        "x = inputs\r\n",
        "\r\n",
        "x = Conv2D(128, 3, padding='same')(x)\r\n",
        "x = Activation('relu')(x)\r\n",
        "x = Conv2D(128, 3, padding='same')(x)\r\n",
        "x = Activation('relu')(x)\r\n",
        "\r\n",
        "x_skip = x\r\n",
        "x = Conv2D(128, 3, padding='same')(x)\r\n",
        "x = Activation('relu')(x)\r\n",
        "x = Conv2D(128, 3, padding='same')(x)\r\n",
        "x = Activation('relu')(x)\r\n",
        "x_skip = Conv2D(128, 3, padding='same')(x_skip)\r\n",
        "x = Add()([x, x_skip])\r\n",
        "x = Activation('relu')(x)\r\n",
        "\r\n",
        "x_skip = x\r\n",
        "x = Conv2D(128, 3, padding='same')(x)\r\n",
        "x = Activation('relu')(x)\r\n",
        "x = Conv2D(128, 3, padding='same')(x)\r\n",
        "x = Activation('relu')(x)\r\n",
        "x_skip = Conv2D(128, 3, padding='same')(x_skip)\r\n",
        "x = Add()([x, x_skip])\r\n",
        "x = Activation('relu')(x)\r\n",
        "\r\n",
        "x = layers.MaxPooling2D(2)(x)\r\n",
        "x = layers.Flatten()(x)\r\n",
        "x = layers.Dense(128, activation='relu')(x)\r\n",
        "x = layers.Dense(128, activation='relu')(x)\r\n",
        "x = layers.Dense(10, activation='softmax')(x)\r\n",
        "outputs = x\r\n",
        "\r\n",
        "model = keras.Model(inputs, outputs)\r\n",
        "model.summary()"
      ],
      "execution_count": 8,
      "outputs": [
        {
          "output_type": "stream",
          "text": [
            "Model: \"model\"\n",
            "__________________________________________________________________________________________________\n",
            "Layer (type)                    Output Shape         Param #     Connected to                     \n",
            "==================================================================================================\n",
            "input_1 (InputLayer)            [(None, 32, 32, 3)]  0                                            \n",
            "__________________________________________________________________________________________________\n",
            "conv2d_8 (Conv2D)               (None, 32, 32, 128)  3584        input_1[0][0]                    \n",
            "__________________________________________________________________________________________________\n",
            "activation (Activation)         (None, 32, 32, 128)  0           conv2d_8[0][0]                   \n",
            "__________________________________________________________________________________________________\n",
            "conv2d_9 (Conv2D)               (None, 32, 32, 128)  147584      activation[0][0]                 \n",
            "__________________________________________________________________________________________________\n",
            "activation_1 (Activation)       (None, 32, 32, 128)  0           conv2d_9[0][0]                   \n",
            "__________________________________________________________________________________________________\n",
            "conv2d_10 (Conv2D)              (None, 32, 32, 128)  147584      activation_1[0][0]               \n",
            "__________________________________________________________________________________________________\n",
            "activation_2 (Activation)       (None, 32, 32, 128)  0           conv2d_10[0][0]                  \n",
            "__________________________________________________________________________________________________\n",
            "conv2d_11 (Conv2D)              (None, 32, 32, 128)  147584      activation_2[0][0]               \n",
            "__________________________________________________________________________________________________\n",
            "activation_3 (Activation)       (None, 32, 32, 128)  0           conv2d_11[0][0]                  \n",
            "__________________________________________________________________________________________________\n",
            "conv2d_12 (Conv2D)              (None, 32, 32, 128)  147584      activation_1[0][0]               \n",
            "__________________________________________________________________________________________________\n",
            "add (Add)                       (None, 32, 32, 128)  0           activation_3[0][0]               \n",
            "                                                                 conv2d_12[0][0]                  \n",
            "__________________________________________________________________________________________________\n",
            "activation_4 (Activation)       (None, 32, 32, 128)  0           add[0][0]                        \n",
            "__________________________________________________________________________________________________\n",
            "conv2d_13 (Conv2D)              (None, 32, 32, 128)  147584      activation_4[0][0]               \n",
            "__________________________________________________________________________________________________\n",
            "activation_5 (Activation)       (None, 32, 32, 128)  0           conv2d_13[0][0]                  \n",
            "__________________________________________________________________________________________________\n",
            "conv2d_14 (Conv2D)              (None, 32, 32, 128)  147584      activation_5[0][0]               \n",
            "__________________________________________________________________________________________________\n",
            "activation_6 (Activation)       (None, 32, 32, 128)  0           conv2d_14[0][0]                  \n",
            "__________________________________________________________________________________________________\n",
            "conv2d_15 (Conv2D)              (None, 32, 32, 128)  147584      activation_4[0][0]               \n",
            "__________________________________________________________________________________________________\n",
            "add_1 (Add)                     (None, 32, 32, 128)  0           activation_6[0][0]               \n",
            "                                                                 conv2d_15[0][0]                  \n",
            "__________________________________________________________________________________________________\n",
            "activation_7 (Activation)       (None, 32, 32, 128)  0           add_1[0][0]                      \n",
            "__________________________________________________________________________________________________\n",
            "max_pooling2d_1 (MaxPooling2D)  (None, 16, 16, 128)  0           activation_7[0][0]               \n",
            "__________________________________________________________________________________________________\n",
            "flatten_1 (Flatten)             (None, 32768)        0           max_pooling2d_1[0][0]            \n",
            "__________________________________________________________________________________________________\n",
            "dense_3 (Dense)                 (None, 128)          4194432     flatten_1[0][0]                  \n",
            "__________________________________________________________________________________________________\n",
            "dense_4 (Dense)                 (None, 128)          16512       dense_3[0][0]                    \n",
            "__________________________________________________________________________________________________\n",
            "dense_5 (Dense)                 (None, 10)           1290        dense_4[0][0]                    \n",
            "==================================================================================================\n",
            "Total params: 5,248,906\n",
            "Trainable params: 5,248,906\n",
            "Non-trainable params: 0\n",
            "__________________________________________________________________________________________________\n"
          ],
          "name": "stdout"
        }
      ]
    },
    {
      "cell_type": "code",
      "metadata": {
        "colab": {
          "base_uri": "https://localhost:8080/"
        },
        "id": "L1a55VWDTmGq",
        "outputId": "c41c1cf9-61c8-433a-dba3-2989fdf9e482"
      },
      "source": [
        "model.compile(optimizer=tf.keras.optimizers.Adam(), \r\n",
        "            loss='sparse_categorical_crossentropy', \r\n",
        "            metrics=[tf.keras.metrics.SparseCategoricalAccuracy()])\r\n",
        "\r\n",
        "model.fit(x_train, y_train, epochs=7)\r\n",
        "model.evaluate(x_test, y_test, verbose=2)"
      ],
      "execution_count": 9,
      "outputs": [
        {
          "output_type": "stream",
          "text": [
            "Epoch 1/7\n",
            "1563/1563 [==============================] - 108s 68ms/step - loss: 1.7475 - sparse_categorical_accuracy: 0.3546\n",
            "Epoch 2/7\n",
            "1563/1563 [==============================] - 107s 68ms/step - loss: 1.0948 - sparse_categorical_accuracy: 0.6100\n",
            "Epoch 3/7\n",
            "1563/1563 [==============================] - 107s 68ms/step - loss: 0.8183 - sparse_categorical_accuracy: 0.7111\n",
            "Epoch 4/7\n",
            "1563/1563 [==============================] - 107s 68ms/step - loss: 0.6369 - sparse_categorical_accuracy: 0.7758\n",
            "Epoch 5/7\n",
            "1563/1563 [==============================] - 107s 68ms/step - loss: 0.4731 - sparse_categorical_accuracy: 0.8351\n",
            "Epoch 6/7\n",
            "1563/1563 [==============================] - 107s 68ms/step - loss: 0.3470 - sparse_categorical_accuracy: 0.8773\n",
            "Epoch 7/7\n",
            "1563/1563 [==============================] - 107s 68ms/step - loss: 0.2489 - sparse_categorical_accuracy: 0.9141\n",
            "313/313 - 6s - loss: 1.2745 - sparse_categorical_accuracy: 0.6777\n"
          ],
          "name": "stdout"
        },
        {
          "output_type": "execute_result",
          "data": {
            "text/plain": [
              "[1.2745110988616943, 0.6776999831199646]"
            ]
          },
          "metadata": {
            "tags": []
          },
          "execution_count": 9
        }
      ]
    },
    {
      "cell_type": "markdown",
      "metadata": {
        "id": "-EI5KD2aWzTQ"
      },
      "source": [
        "## **MaxPooling**"
      ]
    },
    {
      "cell_type": "code",
      "metadata": {
        "colab": {
          "base_uri": "https://localhost:8080/"
        },
        "id": "IHTljxJgTmIj",
        "outputId": "497adeb7-a967-4216-efc8-fb61a9addf99"
      },
      "source": [
        "inputs = keras.Input(shape=(32, 32, 3))\r\n",
        "x = inputs\r\n",
        "\r\n",
        "x = Conv2D(128, 3, padding='same')(x)\r\n",
        "x = Activation('relu')(x)\r\n",
        "x = Conv2D(128, 3, padding='same')(x)\r\n",
        "x = Activation('relu')(x)\r\n",
        "\r\n",
        "x = layers.MaxPooling2D(2)(x)\r\n",
        "\r\n",
        "x_skip = x\r\n",
        "x = Conv2D(128, 3, padding='same')(x)\r\n",
        "x = Activation('relu')(x)\r\n",
        "x = Conv2D(128, 3, padding='same')(x)\r\n",
        "x = Activation('relu')(x)\r\n",
        "x_skip = Conv2D(128, 3, padding='same')(x_skip)\r\n",
        "x = Add()([x, x_skip])\r\n",
        "x = Activation('relu')(x)\r\n",
        "\r\n",
        "x = layers.MaxPooling2D(2)(x)\r\n",
        "\r\n",
        "x_skip = x\r\n",
        "x = Conv2D(128, 3, padding='same')(x)\r\n",
        "x = Activation('relu')(x)\r\n",
        "x = Conv2D(128, 3, padding='same')(x)\r\n",
        "x = Activation('relu')(x)\r\n",
        "x_skip = Conv2D(128, 3, padding='same')(x_skip)\r\n",
        "x = Add()([x, x_skip])\r\n",
        "x = Activation('relu')(x)\r\n",
        "\r\n",
        "x = layers.MaxPooling2D(2)(x)\r\n",
        "\r\n",
        "x = layers.Flatten()(x)\r\n",
        "x = layers.Dense(128, activation='relu')(x)\r\n",
        "x = layers.Dense(128, activation='relu')(x)\r\n",
        "x = layers.Dense(10, activation='softmax')(x)\r\n",
        "outputs = x\r\n",
        "\r\n",
        "model = keras.Model(inputs, outputs)\r\n",
        "model.summary()"
      ],
      "execution_count": 10,
      "outputs": [
        {
          "output_type": "stream",
          "text": [
            "Model: \"model_1\"\n",
            "__________________________________________________________________________________________________\n",
            "Layer (type)                    Output Shape         Param #     Connected to                     \n",
            "==================================================================================================\n",
            "input_2 (InputLayer)            [(None, 32, 32, 3)]  0                                            \n",
            "__________________________________________________________________________________________________\n",
            "conv2d_16 (Conv2D)              (None, 32, 32, 128)  3584        input_2[0][0]                    \n",
            "__________________________________________________________________________________________________\n",
            "activation_8 (Activation)       (None, 32, 32, 128)  0           conv2d_16[0][0]                  \n",
            "__________________________________________________________________________________________________\n",
            "conv2d_17 (Conv2D)              (None, 32, 32, 128)  147584      activation_8[0][0]               \n",
            "__________________________________________________________________________________________________\n",
            "activation_9 (Activation)       (None, 32, 32, 128)  0           conv2d_17[0][0]                  \n",
            "__________________________________________________________________________________________________\n",
            "max_pooling2d_2 (MaxPooling2D)  (None, 16, 16, 128)  0           activation_9[0][0]               \n",
            "__________________________________________________________________________________________________\n",
            "conv2d_18 (Conv2D)              (None, 16, 16, 128)  147584      max_pooling2d_2[0][0]            \n",
            "__________________________________________________________________________________________________\n",
            "activation_10 (Activation)      (None, 16, 16, 128)  0           conv2d_18[0][0]                  \n",
            "__________________________________________________________________________________________________\n",
            "conv2d_19 (Conv2D)              (None, 16, 16, 128)  147584      activation_10[0][0]              \n",
            "__________________________________________________________________________________________________\n",
            "activation_11 (Activation)      (None, 16, 16, 128)  0           conv2d_19[0][0]                  \n",
            "__________________________________________________________________________________________________\n",
            "conv2d_20 (Conv2D)              (None, 16, 16, 128)  147584      max_pooling2d_2[0][0]            \n",
            "__________________________________________________________________________________________________\n",
            "add_2 (Add)                     (None, 16, 16, 128)  0           activation_11[0][0]              \n",
            "                                                                 conv2d_20[0][0]                  \n",
            "__________________________________________________________________________________________________\n",
            "activation_12 (Activation)      (None, 16, 16, 128)  0           add_2[0][0]                      \n",
            "__________________________________________________________________________________________________\n",
            "max_pooling2d_3 (MaxPooling2D)  (None, 8, 8, 128)    0           activation_12[0][0]              \n",
            "__________________________________________________________________________________________________\n",
            "conv2d_21 (Conv2D)              (None, 8, 8, 128)    147584      max_pooling2d_3[0][0]            \n",
            "__________________________________________________________________________________________________\n",
            "activation_13 (Activation)      (None, 8, 8, 128)    0           conv2d_21[0][0]                  \n",
            "__________________________________________________________________________________________________\n",
            "conv2d_22 (Conv2D)              (None, 8, 8, 128)    147584      activation_13[0][0]              \n",
            "__________________________________________________________________________________________________\n",
            "activation_14 (Activation)      (None, 8, 8, 128)    0           conv2d_22[0][0]                  \n",
            "__________________________________________________________________________________________________\n",
            "conv2d_23 (Conv2D)              (None, 8, 8, 128)    147584      max_pooling2d_3[0][0]            \n",
            "__________________________________________________________________________________________________\n",
            "add_3 (Add)                     (None, 8, 8, 128)    0           activation_14[0][0]              \n",
            "                                                                 conv2d_23[0][0]                  \n",
            "__________________________________________________________________________________________________\n",
            "activation_15 (Activation)      (None, 8, 8, 128)    0           add_3[0][0]                      \n",
            "__________________________________________________________________________________________________\n",
            "max_pooling2d_4 (MaxPooling2D)  (None, 4, 4, 128)    0           activation_15[0][0]              \n",
            "__________________________________________________________________________________________________\n",
            "flatten_2 (Flatten)             (None, 2048)         0           max_pooling2d_4[0][0]            \n",
            "__________________________________________________________________________________________________\n",
            "dense_6 (Dense)                 (None, 128)          262272      flatten_2[0][0]                  \n",
            "__________________________________________________________________________________________________\n",
            "dense_7 (Dense)                 (None, 128)          16512       dense_6[0][0]                    \n",
            "__________________________________________________________________________________________________\n",
            "dense_8 (Dense)                 (None, 10)           1290        dense_7[0][0]                    \n",
            "==================================================================================================\n",
            "Total params: 1,316,746\n",
            "Trainable params: 1,316,746\n",
            "Non-trainable params: 0\n",
            "__________________________________________________________________________________________________\n"
          ],
          "name": "stdout"
        }
      ]
    },
    {
      "cell_type": "code",
      "metadata": {
        "colab": {
          "base_uri": "https://localhost:8080/"
        },
        "id": "9SX2POHzTmMn",
        "outputId": "3492fbe6-6918-4dc9-e823-7f31281f6bc8"
      },
      "source": [
        "model.compile(optimizer=tf.keras.optimizers.Adam(), \r\n",
        "            loss='sparse_categorical_crossentropy', \r\n",
        "            metrics=[tf.keras.metrics.SparseCategoricalAccuracy()])\r\n",
        "\r\n",
        "model.fit(x_train, y_train, epochs=7)\r\n",
        "model.evaluate(x_test, y_test, verbose=2)"
      ],
      "execution_count": 11,
      "outputs": [
        {
          "output_type": "stream",
          "text": [
            "Epoch 1/7\n",
            "1563/1563 [==============================] - 45s 28ms/step - loss: 1.7183 - sparse_categorical_accuracy: 0.3628\n",
            "Epoch 2/7\n",
            "1563/1563 [==============================] - 44s 28ms/step - loss: 0.9431 - sparse_categorical_accuracy: 0.6668\n",
            "Epoch 3/7\n",
            "1563/1563 [==============================] - 44s 28ms/step - loss: 0.7276 - sparse_categorical_accuracy: 0.7425\n",
            "Epoch 4/7\n",
            "1563/1563 [==============================] - 43s 28ms/step - loss: 0.5841 - sparse_categorical_accuracy: 0.7966\n",
            "Epoch 5/7\n",
            "1563/1563 [==============================] - 43s 28ms/step - loss: 0.4745 - sparse_categorical_accuracy: 0.8340\n",
            "Epoch 6/7\n",
            "1563/1563 [==============================] - 43s 28ms/step - loss: 0.3930 - sparse_categorical_accuracy: 0.8649\n",
            "Epoch 7/7\n",
            "1563/1563 [==============================] - 43s 28ms/step - loss: 0.3186 - sparse_categorical_accuracy: 0.8889\n",
            "313/313 - 3s - loss: 0.8329 - sparse_categorical_accuracy: 0.7500\n"
          ],
          "name": "stdout"
        },
        {
          "output_type": "execute_result",
          "data": {
            "text/plain": [
              "[0.8329219818115234, 0.75]"
            ]
          },
          "metadata": {
            "tags": []
          },
          "execution_count": 11
        }
      ]
    },
    {
      "cell_type": "markdown",
      "metadata": {
        "id": "FV6riJoaZdmy"
      },
      "source": [
        "## **MaxPooling & DropOut**"
      ]
    },
    {
      "cell_type": "code",
      "metadata": {
        "colab": {
          "base_uri": "https://localhost:8080/"
        },
        "id": "5DuFKYYFTmR5",
        "outputId": "1881a72e-c3e0-48c3-8402-be596ffeaf07"
      },
      "source": [
        "inputs = keras.Input(shape=(32, 32, 3))\r\n",
        "x = inputs\r\n",
        "\r\n",
        "x = Conv2D(128, 3, padding='same')(x)\r\n",
        "x = Activation('relu')(x)\r\n",
        "x = Conv2D(128, 3, padding='same')(x)\r\n",
        "x = Activation('relu')(x)\r\n",
        "\r\n",
        "x = layers.MaxPooling2D(2)(x)\r\n",
        "\r\n",
        "x_skip = x\r\n",
        "x = Conv2D(128, 3, padding='same')(x)\r\n",
        "x = Activation('relu')(x)\r\n",
        "x = Conv2D(128, 3, padding='same')(x)\r\n",
        "x = Activation('relu')(x)\r\n",
        "x_skip = Conv2D(128, 3, padding='same')(x_skip)\r\n",
        "x = Add()([x, x_skip])\r\n",
        "x = Activation('relu')(x)\r\n",
        "\r\n",
        "x = layers.MaxPooling2D(2)(x)\r\n",
        "\r\n",
        "x_skip = x\r\n",
        "x = Conv2D(128, 3, padding='same')(x)\r\n",
        "x = Activation('relu')(x)\r\n",
        "x = Conv2D(128, 3, padding='same')(x)\r\n",
        "x = Activation('relu')(x)\r\n",
        "x_skip = Conv2D(128, 3, padding='same')(x_skip)\r\n",
        "x = Add()([x, x_skip])\r\n",
        "x = Activation('relu')(x)\r\n",
        "\r\n",
        "x = layers.MaxPooling2D(2)(x)\r\n",
        "\r\n",
        "x = layers.Flatten()(x)\r\n",
        "x = layers.Dense(128, activation='relu')(x)\r\n",
        "x = layers.Dropout(0.4)(x)\r\n",
        "x = layers.Dense(128, activation='relu')(x)\r\n",
        "x = layers.Dropout(0.4)(x)\r\n",
        "x = layers.Dense(10, activation='softmax')(x)\r\n",
        "outputs = x\r\n",
        "\r\n",
        "model = keras.Model(inputs, outputs)\r\n",
        "model.summary()"
      ],
      "execution_count": 12,
      "outputs": [
        {
          "output_type": "stream",
          "text": [
            "Model: \"model_2\"\n",
            "__________________________________________________________________________________________________\n",
            "Layer (type)                    Output Shape         Param #     Connected to                     \n",
            "==================================================================================================\n",
            "input_3 (InputLayer)            [(None, 32, 32, 3)]  0                                            \n",
            "__________________________________________________________________________________________________\n",
            "conv2d_24 (Conv2D)              (None, 32, 32, 128)  3584        input_3[0][0]                    \n",
            "__________________________________________________________________________________________________\n",
            "activation_16 (Activation)      (None, 32, 32, 128)  0           conv2d_24[0][0]                  \n",
            "__________________________________________________________________________________________________\n",
            "conv2d_25 (Conv2D)              (None, 32, 32, 128)  147584      activation_16[0][0]              \n",
            "__________________________________________________________________________________________________\n",
            "activation_17 (Activation)      (None, 32, 32, 128)  0           conv2d_25[0][0]                  \n",
            "__________________________________________________________________________________________________\n",
            "max_pooling2d_5 (MaxPooling2D)  (None, 16, 16, 128)  0           activation_17[0][0]              \n",
            "__________________________________________________________________________________________________\n",
            "conv2d_26 (Conv2D)              (None, 16, 16, 128)  147584      max_pooling2d_5[0][0]            \n",
            "__________________________________________________________________________________________________\n",
            "activation_18 (Activation)      (None, 16, 16, 128)  0           conv2d_26[0][0]                  \n",
            "__________________________________________________________________________________________________\n",
            "conv2d_27 (Conv2D)              (None, 16, 16, 128)  147584      activation_18[0][0]              \n",
            "__________________________________________________________________________________________________\n",
            "activation_19 (Activation)      (None, 16, 16, 128)  0           conv2d_27[0][0]                  \n",
            "__________________________________________________________________________________________________\n",
            "conv2d_28 (Conv2D)              (None, 16, 16, 128)  147584      max_pooling2d_5[0][0]            \n",
            "__________________________________________________________________________________________________\n",
            "add_4 (Add)                     (None, 16, 16, 128)  0           activation_19[0][0]              \n",
            "                                                                 conv2d_28[0][0]                  \n",
            "__________________________________________________________________________________________________\n",
            "activation_20 (Activation)      (None, 16, 16, 128)  0           add_4[0][0]                      \n",
            "__________________________________________________________________________________________________\n",
            "max_pooling2d_6 (MaxPooling2D)  (None, 8, 8, 128)    0           activation_20[0][0]              \n",
            "__________________________________________________________________________________________________\n",
            "conv2d_29 (Conv2D)              (None, 8, 8, 128)    147584      max_pooling2d_6[0][0]            \n",
            "__________________________________________________________________________________________________\n",
            "activation_21 (Activation)      (None, 8, 8, 128)    0           conv2d_29[0][0]                  \n",
            "__________________________________________________________________________________________________\n",
            "conv2d_30 (Conv2D)              (None, 8, 8, 128)    147584      activation_21[0][0]              \n",
            "__________________________________________________________________________________________________\n",
            "activation_22 (Activation)      (None, 8, 8, 128)    0           conv2d_30[0][0]                  \n",
            "__________________________________________________________________________________________________\n",
            "conv2d_31 (Conv2D)              (None, 8, 8, 128)    147584      max_pooling2d_6[0][0]            \n",
            "__________________________________________________________________________________________________\n",
            "add_5 (Add)                     (None, 8, 8, 128)    0           activation_22[0][0]              \n",
            "                                                                 conv2d_31[0][0]                  \n",
            "__________________________________________________________________________________________________\n",
            "activation_23 (Activation)      (None, 8, 8, 128)    0           add_5[0][0]                      \n",
            "__________________________________________________________________________________________________\n",
            "max_pooling2d_7 (MaxPooling2D)  (None, 4, 4, 128)    0           activation_23[0][0]              \n",
            "__________________________________________________________________________________________________\n",
            "flatten_3 (Flatten)             (None, 2048)         0           max_pooling2d_7[0][0]            \n",
            "__________________________________________________________________________________________________\n",
            "dense_9 (Dense)                 (None, 128)          262272      flatten_3[0][0]                  \n",
            "__________________________________________________________________________________________________\n",
            "dropout (Dropout)               (None, 128)          0           dense_9[0][0]                    \n",
            "__________________________________________________________________________________________________\n",
            "dense_10 (Dense)                (None, 128)          16512       dropout[0][0]                    \n",
            "__________________________________________________________________________________________________\n",
            "dropout_1 (Dropout)             (None, 128)          0           dense_10[0][0]                   \n",
            "__________________________________________________________________________________________________\n",
            "dense_11 (Dense)                (None, 10)           1290        dropout_1[0][0]                  \n",
            "==================================================================================================\n",
            "Total params: 1,316,746\n",
            "Trainable params: 1,316,746\n",
            "Non-trainable params: 0\n",
            "__________________________________________________________________________________________________\n"
          ],
          "name": "stdout"
        }
      ]
    },
    {
      "cell_type": "code",
      "metadata": {
        "colab": {
          "base_uri": "https://localhost:8080/"
        },
        "id": "D4Umi726TmTb",
        "outputId": "e88bfee1-2366-4e5f-99f5-44eee7d0c0b1"
      },
      "source": [
        "model.compile(optimizer=tf.keras.optimizers.Adam(), \r\n",
        "            loss='sparse_categorical_crossentropy', \r\n",
        "            metrics=[tf.keras.metrics.SparseCategoricalAccuracy()])\r\n",
        "\r\n",
        "model.fit(x_train, y_train, epochs=7)\r\n",
        "model.evaluate(x_test, y_test, verbose=2)"
      ],
      "execution_count": 14,
      "outputs": [
        {
          "output_type": "stream",
          "text": [
            "Epoch 1/7\n",
            "1563/1563 [==============================] - 45s 28ms/step - loss: 0.6190 - sparse_categorical_accuracy: 0.7928\n",
            "Epoch 2/7\n",
            "1563/1563 [==============================] - 44s 28ms/step - loss: 0.5614 - sparse_categorical_accuracy: 0.8131\n",
            "Epoch 3/7\n",
            "1563/1563 [==============================] - 44s 28ms/step - loss: 0.5229 - sparse_categorical_accuracy: 0.8236\n",
            "Epoch 4/7\n",
            "1563/1563 [==============================] - 44s 28ms/step - loss: 0.4843 - sparse_categorical_accuracy: 0.8359\n",
            "Epoch 5/7\n",
            "1563/1563 [==============================] - 44s 28ms/step - loss: 0.4579 - sparse_categorical_accuracy: 0.8461\n",
            "Epoch 6/7\n",
            "1563/1563 [==============================] - 44s 28ms/step - loss: 0.4403 - sparse_categorical_accuracy: 0.8524\n",
            "Epoch 7/7\n",
            "1563/1563 [==============================] - 44s 28ms/step - loss: 0.4259 - sparse_categorical_accuracy: 0.8565\n",
            "313/313 - 3s - loss: 0.7871 - sparse_categorical_accuracy: 0.7480\n"
          ],
          "name": "stdout"
        },
        {
          "output_type": "execute_result",
          "data": {
            "text/plain": [
              "[0.7870946526527405, 0.7480000257492065]"
            ]
          },
          "metadata": {
            "tags": []
          },
          "execution_count": 14
        }
      ]
    },
    {
      "cell_type": "code",
      "metadata": {
        "id": "7wF74t36spuS"
      },
      "source": [
        ""
      ],
      "execution_count": null,
      "outputs": []
    }
  ]
}